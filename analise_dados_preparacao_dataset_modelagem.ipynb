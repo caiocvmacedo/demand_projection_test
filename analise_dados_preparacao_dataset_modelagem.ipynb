{
 "cells": [
  {
   "cell_type": "markdown",
   "id": "e84f3a19",
   "metadata": {},
   "source": [
    "# ANALISE E MODELAGEM DE DADOS"
   ]
  },
  {
   "cell_type": "markdown",
   "id": "5be6a996",
   "metadata": {},
   "source": [
    "# Iniciando sessão spark"
   ]
  },
  {
   "cell_type": "code",
   "execution_count": 1,
   "id": "026db88b",
   "metadata": {},
   "outputs": [],
   "source": [
    "import findspark\n",
    "import os\n",
    "\n",
    "findspark.init()\n",
    "\n",
    "from pyspark.sql import SparkSession\n",
    "spark = SparkSession.builder \\\n",
    "    .master('local[*]') \\\n",
    "    .appName(\"Iniciando com Spark\") \\\n",
    "    .getOrCreate()"
   ]
  },
  {
   "cell_type": "markdown",
   "id": "f6836322",
   "metadata": {},
   "source": [
    "# Imports"
   ]
  },
  {
   "cell_type": "code",
   "execution_count": 2,
   "id": "258e03d8",
   "metadata": {},
   "outputs": [],
   "source": [
    "from pyspark.sql.functions import *\n",
    "import pandas as pd\n",
    "import matplotlib.pyplot as plt\n",
    "from pyspark.ml.feature import VectorAssembler\n",
    "from pyspark.ml.regression import LinearRegression\n",
    "from pyspark.ml.regression import LinearRegressionModel\n",
    "from pyspark.ml.stat import Correlation\n",
    "from pyspark.sql import Window"
   ]
  },
  {
   "cell_type": "markdown",
   "id": "19059d7d",
   "metadata": {},
   "source": [
    "# Carregando dados"
   ]
  },
  {
   "cell_type": "code",
   "execution_count": 3,
   "id": "a9426c09",
   "metadata": {},
   "outputs": [],
   "source": [
    "produtos = spark.read.csv('teste_petz/Produtos.csv', sep = ';', header = True)\n",
    "vendas = spark.read.csv('teste_petz/Vendas.csv', sep = ';', header = True)\n",
    "lojas = spark.read.csv('teste_petz/Lojas.csv', sep = ';', header = True)\n",
    "unidades = spark.read.csv('teste_petz/Unidades_Negocios.csv', sep = ';', header = True)\n",
    "canais = spark.read.csv('teste_petz/Canais.csv', sep = ';', header = True)"
   ]
  },
  {
   "cell_type": "markdown",
   "id": "4456db1d",
   "metadata": {},
   "source": [
    "# Mostrando os dados"
   ]
  },
  {
   "cell_type": "code",
   "execution_count": 118,
   "id": "75481e21",
   "metadata": {},
   "outputs": [
    {
     "name": "stdout",
     "output_type": "stream",
     "text": [
      "produtos tabela: \n",
      "+--------------------+------------+------------+-----------+-----------------+\n",
      "|             produto|  fornecedor|produto_nome|  categoria|    sub_categoria|\n",
      "+--------------------+------------+------------+-----------+-----------------+\n",
      "|K*C+26:7*$6P)3PQ_...|Fornecedor 1|   Produto 1|Categoria 1|Subcategoria C1.1|\n",
      "|A],V_4=/EP2<3_]5N...|Fornecedor 2|   Produto 2|Categoria 1|Subcategoria C1.1|\n",
      "|EL2!F4Q5(;*)$XX7S...|Fornecedor 3|   Produto 3|Categoria 1|Subcategoria C1.1|\n",
      "|\"EL\"\"=U15GB/W)$<?...|Fornecedor 3|   Produto 4|Categoria 1|Subcategoria C1.1|\n",
      "|\"AC\"\"\"\"8K\\_G,V\\'R...|Fornecedor 4|   Produto 5|Categoria 1|Subcategoria C1.1|\n",
      "+--------------------+------------+------------+-----------+-----------------+\n",
      "only showing top 5 rows\n",
      "\n",
      "None\n",
      "contagem: \n",
      "15260\n",
      "-------------------------------\n",
      "vendas tabela: \n",
      "+----------+--------------------+--------------------+--------------------+--------------------+--------------------+--------------------+--------------------+--------------------+--------------------+-----------+-------------+-----------+\n",
      "|   id_data|             id_loja|  id_unidade_negocio|            id_canal|          id_produto|            id_cupom|          id_cliente|   id_endereco_venda|     id_tipo_cliente|          qtde_venda|valor_venda|valor_imposto|valor_custo|\n",
      "+----------+--------------------+--------------------+--------------------+--------------------+--------------------+--------------------+--------------------+--------------------+--------------------+-----------+-------------+-----------+\n",
      "|2019-09-21|F)T`P;^+F]5F7YX^S...|\"G[)3/J:=M8+NL&V<...|\"G[)3/J:=M8+NL&V<...|\"AR^$EA+5@,Q][\"\"V...|N_N,M-K1I34E(DW*-...|N$P5WZFC9VKQM(XS1...|\"H=ZO(L\"\"MR+7D](@...|A-Z4<6#[I<TA\\FNKY...|                 0,6|       16,2|         4,41|      5,736|\n",
      "|2019-08-06|F!25!6;D=./F%2(E)...|\"G[)3/J:=M8+NL&V<...|\"G[)3/J:=M8+NL&V<...|FC^22=\\(:F=0J=F6T...|\"OEUPW7V[BY>]:>T;...|\"P0K'8UWIADS?T\"\"+...|F'^..@O;\\5E;#O4(^...|\"N3ZH'W$AE#+&45Z8...|                 0,6|     11,994|        2,154|      3,084|\n",
      "|2019-08-08|\"FO1G\"\"YC0G6I&C(,...|\"G[)3/J:=M8+NL&V<...|\"G[)3/J:=M8+NL&V<...|C2O9ATWBXT.B)L-4@...|\"B7,9,^VTQPPN)M\\$...|E\\^N9TRHKU5ABQ1=?...|E0(*AW^9CG6ACQ2*,...|\"N3ZH'W$AE#+&45Z8...|                 0,6|     11,172|        3,048|      3,192|\n",
      "|2019-07-28|FO)5JW59TP?&C:?,Z...|\"G[)3/J:=M8+NL&V<...|\"G[)3/J:=M8+NL&V<...|\"CIJ6#@,X$@9;\"\",S...|JT=[J-@0OCG!X.YRK...|         \"K*\"\"!]6VAE|       =C*BS-]/@_*%\"|H:E2P/CNLQ@T$!(,0...|\"N3ZH'W$AE#+&45Z8...|        0,6|        2,394|      0,222|\n",
      "|2019-10-26|F!25!6;D=./F%2(E)...|\"G[)3/J:=M8+NL&V<...|\"G[)3/J:=M8+NL&V<...|NLPPIQIA=`-_>0I1)...|E+VB+$M>3GM`:$V#W...|EO2UJ\\6RWGUP-OSON...|\"A$ER-0#JA]ENP.WR...|\"N3ZH'W$AE#+&45Z8...|                 1,8|      4,482|        1,224|      1,296|\n",
      "+----------+--------------------+--------------------+--------------------+--------------------+--------------------+--------------------+--------------------+--------------------+--------------------+-----------+-------------+-----------+\n",
      "only showing top 5 rows\n",
      "\n",
      "None\n",
      "contagem: \n",
      "4081405\n",
      "-------------------------------\n",
      "lojas tabela: \n",
      "+--------------------+--------+------------+----------+-------------+--------------+---+\n",
      "|             id_loja|cod_loja|ano_abertura|  regional|     distrito|        cidade| uf|\n",
      "+--------------------+--------+------------+----------+-------------+--------------+---+\n",
      "|F!25!6;D=./F%2(E)...|  Loja 1|        2013|Regional 1|Distrito R1.1|     Sao Paulo| SP|\n",
      "|F%#+YX,X!FRF<FHD)...|  Loja 2|        2011|Regional 2|Distrito R2.1|Rio de Janeiro| RJ|\n",
      "|F)T`P;^+F]5F7YX^S...|  Loja 3|        2017|Regional 2|Distrito R2.2|      Brasilia| DF|\n",
      "|FO)5JW59TP?&C:?,Z...|  Loja 4|        2017|Regional 1|Distrito R1.2|      Sorocaba| SP|\n",
      "|\"FO1G\"\"YC0G6I&C(,...|  Loja 5|        2018|Regional 1|Distrito R1.2|        Santos| SP|\n",
      "+--------------------+--------+------------+----------+-------------+--------------+---+\n",
      "\n",
      "None\n",
      "contagem: \n",
      "5\n",
      "-------------------------------\n",
      "unidades tabela: \n",
      "+--------------------+---------------+\n",
      "|  id_unidade_negocio|unidade_negocio|\n",
      "+--------------------+---------------+\n",
      "|F3/>CC-'$Y5AV(,>T...|       Servicos|\n",
      "|\"AP\"\".H(2\\8_>R#=\"...|       Servicos|\n",
      "|\"G[)3/J:=M8+NL&V<...|       Produtos|\n",
      "+--------------------+---------------+\n",
      "\n",
      "None\n",
      "contagem: \n",
      "3\n",
      "-------------------------------\n",
      "canais tabela: \n",
      "+--------------------+-----+\n",
      "|           cod_canal|canal|\n",
      "+--------------------+-----+\n",
      "|F)ZVUM>YP>1!^J;_E...| Ecom|\n",
      "|E2J/#5JMB3`*6UR<W...| Ecom|\n",
      "|\"FW2W&JXXC\"\"<A!FB...| Ecom|\n",
      "|\"G[)3/J:=M8+NL&V<...| Loja|\n",
      "|FEV=2GS'15+!S-%8Z...| Ecom|\n",
      "+--------------------+-----+\n",
      "only showing top 5 rows\n",
      "\n",
      "None\n",
      "contagem: \n",
      "9\n",
      "-------------------------------\n"
     ]
    }
   ],
   "source": [
    "lista_dfs = {'produtos':produtos,\n",
    "            'vendas':vendas,\n",
    "            'lojas':lojas,\n",
    "            'unidades':unidades,\n",
    "            'canais':canais}\n",
    "for i, j in lista_dfs.items():\n",
    "    print(i + ' tabela: ')\n",
    "    print(j.show(5))\n",
    "    print('contagem: ')\n",
    "    print(j.count())\n",
    "    print('-------------------------------')"
   ]
  },
  {
   "cell_type": "markdown",
   "id": "a4b92515",
   "metadata": {},
   "source": [
    "# Preparando dataset unificado final para modelagem"
   ]
  },
  {
   "cell_type": "code",
   "execution_count": 10,
   "id": "bf9b4644",
   "metadata": {},
   "outputs": [],
   "source": [
    "# Preparação inicial\n",
    "dataset = vendas.withColumn('qtde_venda', regexp_replace('qtde_venda', ',', '.').cast('float'))\\\n",
    "        .withColumn('valor_venda', regexp_replace('valor_venda', ',', '.').cast('float'))\\\n",
    "        .withColumn('valor_imposto', regexp_replace('valor_imposto', ',', '.').cast('float'))\\\n",
    "        .withColumn('valor_custo', regexp_replace('valor_custo', ',', '.').cast('float'))\\\n",
    "        .withColumn('data', concat_ws('-', substring(col('id_data').cast('date'), 1, 4), \n",
    "                                      substring(col('id_data').cast('date'), 6, 2)))\\\n",
    "        .join(produtos.withColumnRenamed('produto', 'id_produto'), on='id_produto', how='left')\\\n",
    "        .withColumn('flg_prodt', when(isnull(col('produto_nome')), 0).otherwise(1))\\\n",
    "        .join(lojas, on='id_loja', how='left').withColumn('flg_loja', when(isnull(col('cod_loja')), 0).otherwise(1))\\\n",
    "        .join(unidades, on='id_unidade_negocio', how='left').withColumn('flg_unidade', when(isnull(col('unidade_negocio')), \n",
    "                                                                                           0).otherwise(1))\\\n",
    "        .join(canais.withColumnRenamed('cod_canal', 'id_canal'), on='id_canal', how='left')\\\n",
    "        .withColumn('flg_canal', when(isnull(col('canal')), 0).otherwise(1))\n",
    "\n",
    "# Enumerando clientes\n",
    "cliente = dataset.select('id_cliente').distinct().withColumn('cliente', concat_ws('_', lit('cliente'), \n",
    "                                                                                  monotonically_increasing_id()))\n",
    "\n",
    "# Enumerando tipos de clientes\n",
    "tipo_cliente = dataset.select('id_tipo_cliente').distinct().withColumn('tipo_cliente', \n",
    "                                                                    concat_ws('_', lit('tipo_cliente'), \n",
    "                                                                              monotonically_increasing_id()))\n",
    "\n",
    "# Sintetizando dados em uma nova versão\n",
    "dataset_v02 = dataset.join(cliente, on='id_cliente', how='left').join(tipo_cliente, on='id_tipo_cliente', how='left')\\\n",
    "                    .drop('id_produto', 'id_loja', 'id_unidade_negocio', 'id_canal', 'id_cupom', \n",
    "                          'id_cliente', 'id_endereco_venda', 'id_tipo_cliente', 'id_data').distinct().cache()"
   ]
  },
  {
   "cell_type": "markdown",
   "id": "0798193d",
   "metadata": {},
   "source": [
    "# Exibindo Dataset"
   ]
  },
  {
   "cell_type": "code",
   "execution_count": 122,
   "id": "5d2579ce",
   "metadata": {
    "collapsed": true
   },
   "outputs": [
    {
     "name": "stdout",
     "output_type": "stream",
     "text": [
      "+----------+-----------+-------------+-----------+-------+--------------+-------------+--------------+-----------------+---------+--------+------------+----------+-------------+--------------+---+--------+---------------+-----------+-----+---------+--------------------+--------------------+\n",
      "|qtde_venda|valor_venda|valor_imposto|valor_custo|   data|    fornecedor| produto_nome|     categoria|    sub_categoria|flg_prodt|cod_loja|ano_abertura|  regional|     distrito|        cidade| uf|flg_loja|unidade_negocio|flg_unidade|canal|flg_canal|             cliente|        tipo_cliente|\n",
      "+----------+-----------+-------------+-----------+-------+--------------+-------------+--------------+-----------------+---------+--------+------------+----------+-------------+--------------+---+--------+---------------+-----------+-----+---------+--------------------+--------------------+\n",
      "|      null|       null|          1.2|      6.588|2018-05|      H-H'&N(G|           ,\"|Fornecedor 151|    Produto 15129|        1|  Loja 3|        2017|Regional 2|Distrito R2.2|      Brasilia| DF|       1|       Produtos|          1| Loja|        1|cliente_240518168586|     tipo_cliente_85|\n",
      "|    -32.52|     -8.862|      -11.604|       null|2018-11| Fornecedor 83| Produto 7343|   Categoria 5|Subcategoria C5.1|        1|  Loja 5|        2018|Regional 1|Distrito R1.2|        Santos| SP|       1|       Produtos|          1| Loja|        1|cliente_317827580058|     tipo_cliente_27|\n",
      "|      null|        0.6|       90.804|      8.394|2019-08| Fornecedor 26|Produto 12881|   Categoria 2|Subcategoria C2.2|        1|  Loja 4|        2017|Regional 1|Distrito R1.2|      Sorocaba| SP|       1|       Produtos|          1| Loja|        1|cliente_140015933...|      tipo_cliente_1|\n",
      "|      null|        0.6|       51.594|     14.064|2019-08|Fornecedor 110|Produto 11383|   Categoria 7|Subcategoria C7.1|        1|  Loja 4|        2017|Regional 1|Distrito R1.2|      Sorocaba| SP|       1|       Produtos|          1| Loja|        1|cliente_140015933...|      tipo_cliente_1|\n",
      "|      null|        0.6|       17.994|       3.24|2018-05| Fornecedor 31|Produto 10505|   Categoria 5|Subcategoria C5.1|        1|  Loja 5|        2018|Regional 1|Distrito R1.2|        Santos| SP|       1|       Produtos|          1| Loja|        1|cliente_130567005...|     tipo_cliente_92|\n",
      "|      null|        1.2|       14.388|      3.924|2018-07|Fornecedor 211| Produto 9183|   Categoria 7|Subcategoria C7.1|        1|  Loja 3|        2017|Regional 2|Distrito R2.2|      Brasilia| DF|       1|       Produtos|          1| Loja|        1|cliente_109092169...|     tipo_cliente_82|\n",
      "|      null|        1.2|        9.588|      2.616|2018-10|Fornecedor 230| Produto 4717|   Categoria 1|Subcategoria C1.1|        1|  Loja 2|        2011|Regional 2|Distrito R2.1|Rio de Janeiro| RJ|       1|       Produtos|          1| Loja|        1|cliente_566935684109|    tipo_cliente_271|\n",
      "|      null|        0.6|       15.696|      4.278|2018-12| Fornecedor 41| Produto 6506|   Categoria 2|Subcategoria C2.2|        1|  Loja 4|        2017|Regional 1|Distrito R1.2|      Sorocaba| SP|       1|       Produtos|          1| Loja|        1|cliente_446676598949|     tipo_cliente_24|\n",
      "|      null|        0.6|        9.594|      1.722|2018-11| Fornecedor 60|  Produto 446|   Categoria 7|Subcategoria C7.1|        1|  Loja 4|        2017|Regional 1|Distrito R1.2|      Sorocaba| SP|       1|       Produtos|          1| Loja|        1|cliente_188978561476|tipo_cliente_8589...|\n",
      "|      null|        0.6|       38.082|     10.374|2018-12|Fornecedor 218| Produto 9264|   Categoria 7|Subcategoria C7.1|        1|  Loja 3|        2017|Regional 2|Distrito R2.2|      Brasilia| DF|       1|       Produtos|          1| Loja|        1|cliente_738734376275|tipo_cliente_8589...|\n",
      "|      null|        1.8|       48.042|     13.086|2019-07|  Fornecedor 2| Produto 9181|   Categoria 7|Subcategoria C7.1|        1|  Loja 1|        2013|Regional 1|Distrito R1.1|     Sao Paulo| SP|       1|       Produtos|          1| Loja|        1|cliente_764504178957|tipo_cliente_8589...|\n",
      "|      null|        0.6|       11.994|       1.11|2019-08|Fornecedor 198|Produto 13044|   Categoria 5|Subcategoria C5.3|        1|  Loja 1|        2013|Regional 1|Distrito R1.1|     Sao Paulo| SP|       1|       Produtos|          1| Loja|        1|cliente_109951162...|tipo_cliente_8589...|\n",
      "|     2.562|       null|         null|       null|2018-02|Fornecedor 106| Produto 1661|   Categoria 7|Subcategoria C7.1|        1|  Loja 3|        2017|Regional 2|Distrito R2.2|      Brasilia| DF|       1|       Produtos|          1| Loja|        1|cliente_121118077...|tipo_cliente_8589...|\n",
      "|     2.778|      3.414|         null|       null|2018-06|Fornecedor 161| Produto 6240|   Categoria 1|Subcategoria C1.1|        1|  Loja 4|        2017|Regional 1|Distrito R1.2|      Sorocaba| SP|       1|       Produtos|          1| Loja|        1|cliente_712964571160|tipo_cliente_8589...|\n",
      "|      null|        1.2|       23.988|      6.534|2019-08| Fornecedor 95| Produto 6431|   Categoria 2|Subcategoria C2.2|        1|  Loja 1|        2013|Regional 1|Distrito R1.1|     Sao Paulo| SP|       1|       Produtos|          1| Loja|        1|cliente_644245094681|tipo_cliente_8589...|\n",
      "|      null|        0.6|        33.12|      3.066|2018-07| Fornecedor 63| Produto 5147|   Categoria 7|Subcategoria C7.3|        1|  Loja 3|        2017|Regional 2|Distrito R2.2|      Brasilia| DF|       1|       Servicos|          1| Loja|        1|cliente_609885356245|tipo_cliente_8589...|\n",
      "|      null|        0.6|       23.994|       2.22|2018-06| Fornecedor 26|Produto 11900|   Categoria 2|Subcategoria C2.2|        1|  Loja 1|        2013|Regional 1|Distrito R1.1|     Sao Paulo| SP|       1|       Produtos|          1| Loja|        1|cliente_147746874...|tipo_cliente_8589...|\n",
      "|      null|        0.6|       24.636|       2.28|2018-02| Fornecedor 26|Produto 11900|   Categoria 2|Subcategoria C2.2|        1|  Loja 1|        2013|Regional 1|Distrito R1.1|     Sao Paulo| SP|       1|       Produtos|          1| Loja|        1|cliente_147746874...|tipo_cliente_8589...|\n",
      "|      null|        1.8|        3.762|      0.342|2018-10|          V^+\"|Fornecedor 95|  Produto 8894|      Categoria 2|        1|  Loja 1|        2013|Regional 1|Distrito R1.1|     Sao Paulo| SP|       1|       Produtos|          1| Loja|        1|cliente_120259084...|tipo_cliente_8589...|\n",
      "|      null|       null|          0.6|      5.322|2018-05|Fornecedor 190| Produto 4338|   Categoria 2|Subcategoria C2.2|        1|  Loja 3|        2017|Regional 2|Distrito R2.2|      Brasilia| DF|       1|       Produtos|          1| Loja|        1|cliente_403726926092|tipo_cliente_8589...|\n",
      "+----------+-----------+-------------+-----------+-------+--------------+-------------+--------------+-----------------+---------+--------+------------+----------+-------------+--------------+---+--------+---------------+-----------+-----+---------+--------------------+--------------------+\n",
      "only showing top 20 rows\n",
      "\n"
     ]
    }
   ],
   "source": [
    "dataset_v02.show()"
   ]
  },
  {
   "cell_type": "code",
   "execution_count": null,
   "id": "8461ece0",
   "metadata": {},
   "outputs": [],
   "source": [
    "+----------+-----------+-------------+-----------+-------+--------------+-------------+--------------+-----------------+---------+--------+------------+----------+-------------+--------------+---+--------+---------------+-----------+-----+---------+--------------------+--------------------+\n",
    "|qtde_venda|valor_venda|valor_imposto|valor_custo|   data|    fornecedor| produto_nome|     categoria|    sub_categoria|flg_prodt|cod_loja|ano_abertura|  regional|     distrito|        cidade| uf|flg_loja|unidade_negocio|flg_unidade|canal|flg_canal|             cliente|        tipo_cliente|\n",
    "+----------+-----------+-------------+-----------+-------+--------------+-------------+--------------+-----------------+---------+--------+------------+----------+-------------+--------------+---+--------+---------------+-----------+-----+---------+--------------------+--------------------+\n",
    "|      null|       null|          1.2|      6.588|2018-05|      H-H'&N(G|           ,\"|Fornecedor 151|    Produto 15129|        1|  Loja 3|        2017|Regional 2|Distrito R2.2|      Brasilia| DF|       1|       Produtos|          1| Loja|        1|cliente_240518168586|     tipo_cliente_85|\n",
    "|    -32.52|     -8.862|      -11.604|       null|2018-11| Fornecedor 83| Produto 7343|   Categoria 5|Subcategoria C5.1|        1|  Loja 5|        2018|Regional 1|Distrito R1.2|        Santos| SP|       1|       Produtos|          1| Loja|        1|cliente_317827580058|     tipo_cliente_27|\n",
    "|      null|        0.6|       90.804|      8.394|2019-08| Fornecedor 26|Produto 12881|   Categoria 2|Subcategoria C2.2|        1|  Loja 4|        2017|Regional 1|Distrito R1.2|      Sorocaba| SP|       1|       Produtos|          1| Loja|        1|cliente_140015933...|      tipo_cliente_1|\n",
    "|      null|        0.6|       51.594|     14.064|2019-08|Fornecedor 110|Produto 11383|   Categoria 7|Subcategoria C7.1|        1|  Loja 4|        2017|Regional 1|Distrito R1.2|      Sorocaba| SP|       1|       Produtos|          1| Loja|        1|cliente_140015933...|      tipo_cliente_1|\n",
    "|      null|        0.6|       17.994|       3.24|2018-05| Fornecedor 31|Produto 10505|   Categoria 5|Subcategoria C5.1|        1|  Loja 5|        2018|Regional 1|Distrito R1.2|        Santos| SP|       1|       Produtos|          1| Loja|        1|cliente_130567005...|     tipo_cliente_92|\n",
    "|      null|        1.2|       14.388|      3.924|2018-07|Fornecedor 211| Produto 9183|   Categoria 7|Subcategoria C7.1|        1|  Loja 3|        2017|Regional 2|Distrito R2.2|      Brasilia| DF|       1|       Produtos|          1| Loja|        1|cliente_109092169...|     tipo_cliente_82|\n",
    "|      null|        1.2|        9.588|      2.616|2018-10|Fornecedor 230| Produto 4717|   Categoria 1|Subcategoria C1.1|        1|  Loja 2|        2011|Regional 2|Distrito R2.1|Rio de Janeiro| RJ|       1|       Produtos|          1| Loja|        1|cliente_566935684109|    tipo_cliente_271|\n",
    "|      null|        0.6|       15.696|      4.278|2018-12| Fornecedor 41| Produto 6506|   Categoria 2|Subcategoria C2.2|        1|  Loja 4|        2017|Regional 1|Distrito R1.2|      Sorocaba| SP|       1|       Produtos|          1| Loja|        1|cliente_446676598949|     tipo_cliente_24|\n",
    "|      null|        0.6|        9.594|      1.722|2018-11| Fornecedor 60|  Produto 446|   Categoria 7|Subcategoria C7.1|        1|  Loja 4|        2017|Regional 1|Distrito R1.2|      Sorocaba| SP|       1|       Produtos|          1| Loja|        1|cliente_188978561476|tipo_cliente_8589...|\n",
    "|      null|        0.6|       38.082|     10.374|2018-12|Fornecedor 218| Produto 9264|   Categoria 7|Subcategoria C7.1|        1|  Loja 3|        2017|Regional 2|Distrito R2.2|      Brasilia| DF|       1|       Produtos|          1| Loja|        1|cliente_738734376275|tipo_cliente_8589...|\n",
    "|      null|        1.8|       48.042|     13.086|2019-07|  Fornecedor 2| Produto 9181|   Categoria 7|Subcategoria C7.1|        1|  Loja 1|        2013|Regional 1|Distrito R1.1|     Sao Paulo| SP|       1|       Produtos|          1| Loja|        1|cliente_764504178957|tipo_cliente_8589...|\n",
    "|      null|        0.6|       11.994|       1.11|2019-08|Fornecedor 198|Produto 13044|   Categoria 5|Subcategoria C5.3|        1|  Loja 1|        2013|Regional 1|Distrito R1.1|     Sao Paulo| SP|       1|       Produtos|          1| Loja|        1|cliente_109951162...|tipo_cliente_8589...|\n",
    "|     2.562|       null|         null|       null|2018-02|Fornecedor 106| Produto 1661|   Categoria 7|Subcategoria C7.1|        1|  Loja 3|        2017|Regional 2|Distrito R2.2|      Brasilia| DF|       1|       Produtos|          1| Loja|        1|cliente_121118077...|tipo_cliente_8589...|\n",
    "|     2.778|      3.414|         null|       null|2018-06|Fornecedor 161| Produto 6240|   Categoria 1|Subcategoria C1.1|        1|  Loja 4|        2017|Regional 1|Distrito R1.2|      Sorocaba| SP|       1|       Produtos|          1| Loja|        1|cliente_712964571160|tipo_cliente_8589...|\n",
    "|      null|        1.2|       23.988|      6.534|2019-08| Fornecedor 95| Produto 6431|   Categoria 2|Subcategoria C2.2|        1|  Loja 1|        2013|Regional 1|Distrito R1.1|     Sao Paulo| SP|       1|       Produtos|          1| Loja|        1|cliente_644245094681|tipo_cliente_8589...|\n",
    "|      null|        0.6|        33.12|      3.066|2018-07| Fornecedor 63| Produto 5147|   Categoria 7|Subcategoria C7.3|        1|  Loja 3|        2017|Regional 2|Distrito R2.2|      Brasilia| DF|       1|       Servicos|          1| Loja|        1|cliente_609885356245|tipo_cliente_8589...|\n",
    "|      null|        0.6|       23.994|       2.22|2018-06| Fornecedor 26|Produto 11900|   Categoria 2|Subcategoria C2.2|        1|  Loja 1|        2013|Regional 1|Distrito R1.1|     Sao Paulo| SP|       1|       Produtos|          1| Loja|        1|cliente_147746874...|tipo_cliente_8589...|\n",
    "|      null|        0.6|       24.636|       2.28|2018-02| Fornecedor 26|Produto 11900|   Categoria 2|Subcategoria C2.2|        1|  Loja 1|        2013|Regional 1|Distrito R1.1|     Sao Paulo| SP|       1|       Produtos|          1| Loja|        1|cliente_147746874...|tipo_cliente_8589...|\n",
    "|      null|        1.8|        3.762|      0.342|2018-10|          V^+\"|Fornecedor 95|  Produto 8894|      Categoria 2|        1|  Loja 1|        2013|Regional 1|Distrito R1.1|     Sao Paulo| SP|       1|       Produtos|          1| Loja|        1|cliente_120259084...|tipo_cliente_8589...|\n",
    "|      null|       null|          0.6|      5.322|2018-05|Fornecedor 190| Produto 4338|   Categoria 2|Subcategoria C2.2|        1|  Loja 3|        2017|Regional 2|Distrito R2.2|      Brasilia| DF|       1|       Produtos|          1| Loja|        1|cliente_403726926092|tipo_cliente_8589...|\n",
    "+----------+-----------+-------------+-----------+-------+--------------+-------------+--------------+-----------------+---------+--------+------------+----------+-------------+--------------+---+--------+---------------+-----------+-----+---------+--------------------+--------------------+"
   ]
  },
  {
   "cell_type": "markdown",
   "id": "c9850ec6",
   "metadata": {},
   "source": [
    "# Contagem total"
   ]
  },
  {
   "cell_type": "code",
   "execution_count": 124,
   "id": "56f8006d",
   "metadata": {},
   "outputs": [
    {
     "data": {
      "text/plain": [
       "3759230"
      ]
     },
     "execution_count": 124,
     "metadata": {},
     "output_type": "execute_result"
    }
   ],
   "source": [
    "dataset_v02.count()"
   ]
  },
  {
   "cell_type": "markdown",
   "id": "053f6817",
   "metadata": {},
   "source": [
    "# Total de clientes"
   ]
  },
  {
   "cell_type": "code",
   "execution_count": 125,
   "id": "f59af62a",
   "metadata": {},
   "outputs": [
    {
     "data": {
      "text/plain": [
       "353290"
      ]
     },
     "execution_count": 125,
     "metadata": {},
     "output_type": "execute_result"
    }
   ],
   "source": [
    "dataset_v02.select('cliente').distinct().count()"
   ]
  },
  {
   "cell_type": "markdown",
   "id": "561f1d81",
   "metadata": {},
   "source": [
    "# Total de tipos de clientes"
   ]
  },
  {
   "cell_type": "code",
   "execution_count": 126,
   "id": "be577ac1",
   "metadata": {},
   "outputs": [
    {
     "data": {
      "text/plain": [
       "88064"
      ]
     },
     "execution_count": 126,
     "metadata": {},
     "output_type": "execute_result"
    }
   ],
   "source": [
    "dataset_v02.select('tipo_cliente').distinct().count()"
   ]
  },
  {
   "cell_type": "markdown",
   "id": "dc228af2",
   "metadata": {},
   "source": [
    "# Contagem de nulos"
   ]
  },
  {
   "cell_type": "code",
   "execution_count": 127,
   "id": "46f2a717",
   "metadata": {},
   "outputs": [
    {
     "name": "stdout",
     "output_type": "stream",
     "text": [
      "+----------+-----------+-------------+-----------+----+----------+------------+---------+-------------+---------+--------+------------+--------+--------+------+---+--------+---------------+-----------+-----+---------+-------+------------+\n",
      "|qtde_venda|valor_venda|valor_imposto|valor_custo|data|fornecedor|produto_nome|categoria|sub_categoria|flg_prodt|cod_loja|ano_abertura|regional|distrito|cidade| uf|flg_loja|unidade_negocio|flg_unidade|canal|flg_canal|cliente|tipo_cliente|\n",
      "+----------+-----------+-------------+-----------+----+----------+------------+---------+-------------+---------+--------+------------+--------+--------+------+---+--------+---------------+-----------+-----+---------+-------+------------+\n",
      "|    873069|     117191|        19505|      28359|   0|      8466|        7785|     7785|         7761|        0|       0|           0|       0|       0|     0|  0|       0|              0|          0|    0|        0|   2304|        2156|\n",
      "+----------+-----------+-------------+-----------+----+----------+------------+---------+-------------+---------+--------+------------+--------+--------+------+---+--------+---------------+-----------+-----+---------+-------+------------+\n",
      "\n"
     ]
    }
   ],
   "source": [
    "dataset_v02.select([count(when(isnull(col(c)), c)).alias(c) for c in dataset_v02.columns]).show()"
   ]
  },
  {
   "cell_type": "code",
   "execution_count": null,
   "id": "c392bf2d",
   "metadata": {},
   "outputs": [],
   "source": [
    "+----------+-----------+-------------+-----------+----+----------+------------+---------+-------------+---------+--------+------------+--------+--------+------+---+--------+---------------+-----------+-----+---------+-------+------------+\n",
    "|qtde_venda|valor_venda|valor_imposto|valor_custo|data|fornecedor|produto_nome|categoria|sub_categoria|flg_prodt|cod_loja|ano_abertura|regional|distrito|cidade| uf|flg_loja|unidade_negocio|flg_unidade|canal|flg_canal|cliente|tipo_cliente|\n",
    "+----------+-----------+-------------+-----------+----+----------+------------+---------+-------------+---------+--------+------------+--------+--------+------+---+--------+---------------+-----------+-----+---------+-------+------------+\n",
    "|    873069|     117191|        19505|      28359|   0|      8466|        7785|     7785|         7761|        0|       0|           0|       0|       0|     0|  0|       0|              0|          0|    0|        0|   2304|        2156|\n",
    "+----------+-----------+-------------+-----------+----+----------+------------+---------+-------------+---------+--------+------------+--------+--------+------+---+--------+---------------+-----------+-----+---------+-------+------------+"
   ]
  },
  {
   "cell_type": "markdown",
   "id": "d1eef87b",
   "metadata": {},
   "source": [
    "# Tratando nulos & corrigindo dados equivocados"
   ]
  },
  {
   "cell_type": "markdown",
   "id": "bcb49727",
   "metadata": {},
   "source": [
    "## Corrigindo variáveis contínuas negativas & Corrigindo categorias erradas!"
   ]
  },
  {
   "cell_type": "code",
   "execution_count": 11,
   "id": "a1926c99",
   "metadata": {},
   "outputs": [],
   "source": [
    "dataset_v03 = dataset_v02.where(col('qtde_venda') >= 0).where(col('valor_venda') > 0)\\\n",
    "    .where(col('valor_imposto') > 0).where(col('valor_custo') > 0)\\\n",
    "    .withColumn('fornecedor', when(substring(col('fornecedor'), 1, 4) != 'Forn', None).otherwise(col('fornecedor')))\\\n",
    "    .withColumn('produto_nome', when(substring(col('produto_nome'), 1, 4) != 'Prod', None).otherwise(col('produto_nome')))\\\n",
    "    .withColumn('categoria', when(substring(col('categoria'), 1, 4) != 'Cate', None).otherwise(col('categoria')))\\\n",
    "    .withColumn('sub_categoria', when(substring(col('sub_categoria'), 1, 3) != 'Sub', None).otherwise(col('sub_categoria')))\\\n",
    "    .withColumn('cod_loja', when(substring(col('cod_loja'), 1, 4) != 'Loja', None).otherwise(col('cod_loja')))\\\n",
    "    .withColumn('regional', when(substring(col('regional'), 1, 4) != 'Regi', None).otherwise(col('regional')))\\\n",
    "    .withColumn('distrito', when(substring(col('distrito'), 1, 4) != 'Dist', None).otherwise(col('distrito')))\\\n",
    "    .withColumn('cliente', when(substring(col('cliente'), 1, 4) != 'clie', None).otherwise(col('cliente')))\\\n",
    "    .withColumn('tipo_cliente', when(substring(col('tipo_cliente'), 1, 4) != 'tipo', None).otherwise(col('tipo_cliente')))\\\n",
    "    .cache()"
   ]
  },
  {
   "cell_type": "markdown",
   "id": "d902b534",
   "metadata": {},
   "source": [
    "#### Contagem"
   ]
  },
  {
   "cell_type": "markdown",
   "id": "51bc2c48",
   "metadata": {},
   "source": [
    "##### Antes\n",
    "dataset_v02.count() = 3759230"
   ]
  },
  {
   "cell_type": "code",
   "execution_count": 130,
   "id": "1e203221",
   "metadata": {},
   "outputs": [
    {
     "data": {
      "text/plain": [
       "2652821"
      ]
     },
     "execution_count": 130,
     "metadata": {},
     "output_type": "execute_result"
    }
   ],
   "source": [
    "# Depois\n",
    "dataset_v03.count()"
   ]
  },
  {
   "cell_type": "markdown",
   "id": "5fdd0c90",
   "metadata": {},
   "source": [
    "## Contando novamente os nulos"
   ]
  },
  {
   "cell_type": "code",
   "execution_count": 131,
   "id": "25146db4",
   "metadata": {},
   "outputs": [
    {
     "name": "stdout",
     "output_type": "stream",
     "text": [
      "+----------+-----------+-------------+-----------+----+----------+------------+---------+-------------+---------+--------+------------+--------+--------+------+---+--------+---------------+-----------+-----+---------+-------+------------+\n",
      "|qtde_venda|valor_venda|valor_imposto|valor_custo|data|fornecedor|produto_nome|categoria|sub_categoria|flg_prodt|cod_loja|ano_abertura|regional|distrito|cidade| uf|flg_loja|unidade_negocio|flg_unidade|canal|flg_canal|cliente|tipo_cliente|\n",
      "+----------+-----------+-------------+-----------+----+----------+------------+---------+-------------+---------+--------+------------+--------+--------+------+---+--------+---------------+-----------+-----+---------+-------+------------+\n",
      "|         0|          0|            0|          0|   0|      3426|        3426|     3426|         3426|        0|       0|           0|       0|       0|     0|  0|       0|              0|          0|    0|        0|      4|           0|\n",
      "+----------+-----------+-------------+-----------+----+----------+------------+---------+-------------+---------+--------+------------+--------+--------+------+---+--------+---------------+-----------+-----+---------+-------+------------+\n",
      "\n"
     ]
    }
   ],
   "source": [
    "dataset_v03.select([count(when(isnull(col(c)), c)).alias(c) for c in dataset_v03.columns]).show()"
   ]
  },
  {
   "cell_type": "code",
   "execution_count": null,
   "id": "b55845b3",
   "metadata": {},
   "outputs": [],
   "source": [
    "+----------+-----------+-------------+-----------+----+----------+------------+---------+-------------+---------+--------+------------+--------+--------+------+---+--------+---------------+-----------+-----+---------+-------+------------+\n",
    "|qtde_venda|valor_venda|valor_imposto|valor_custo|data|fornecedor|produto_nome|categoria|sub_categoria|flg_prodt|cod_loja|ano_abertura|regional|distrito|cidade| uf|flg_loja|unidade_negocio|flg_unidade|canal|flg_canal|cliente|tipo_cliente|\n",
    "+----------+-----------+-------------+-----------+----+----------+------------+---------+-------------+---------+--------+------------+--------+--------+------+---+--------+---------------+-----------+-----+---------+-------+------------+\n",
    "|         0|          0|            0|          0|   0|      3426|        3426|     3426|         3426|        0|       0|           0|       0|       0|     0|  0|       0|              0|          0|    0|        0|      4|           0|\n",
    "+----------+-----------+-------------+-----------+----+----------+------------+---------+-------------+---------+--------+------------+--------+--------+------+---+--------+---------------+-----------+-----+---------+-------+------------+"
   ]
  },
  {
   "cell_type": "markdown",
   "id": "5582d835",
   "metadata": {},
   "source": [
    "## Tendo em vista um número não elevado de nulos, optou-se por dropar registros nulos"
   ]
  },
  {
   "cell_type": "code",
   "execution_count": 12,
   "id": "6b24da60",
   "metadata": {},
   "outputs": [],
   "source": [
    "dataset_v04 = dataset_v03.dropna()"
   ]
  },
  {
   "cell_type": "markdown",
   "id": "9f7e8806",
   "metadata": {},
   "source": [
    "# Agregando variáveis em relação ao tempo (mensal)"
   ]
  },
  {
   "cell_type": "code",
   "execution_count": 13,
   "id": "fa2f49c0",
   "metadata": {},
   "outputs": [],
   "source": [
    "# Agregando variáveis numéricas\n",
    "dataset_numeric_agg = dataset_v04.select('produto_nome', 'data', \n",
    "                                'qtde_venda', 'valor_venda', \n",
    "                                'valor_imposto', 'valor_custo').groupBy('produto_nome', 'data').sum()\\\n",
    "                .withColumnRenamed('sum(qtde_venda)', 'qtd_venda_mensal')\\\n",
    "                .withColumnRenamed('sum(valor_venda)', 'valor_venda_mensal')\\\n",
    "                .withColumnRenamed('sum(valor_imposto)', 'valor_imposto_mensal')\\\n",
    "                .withColumnRenamed('sum(valor_custo)', 'valor_custo_mensal')\n",
    "\n",
    "# Separando as variáveis categóricas\n",
    "dataset_cat = dataset_v04.drop('qtde_venda', 'valor_venda', 'valor_imposto', 'valor_custo', 'data', 'cliente').distinct()\n",
    "\n",
    "# Nova versão do dataset\n",
    "dataset_v05 = dataset_cat.join(dataset_numeric_agg, on='produto_nome', how='left')"
   ]
  },
  {
   "cell_type": "code",
   "execution_count": 134,
   "id": "bc720395",
   "metadata": {
    "collapsed": true
   },
   "outputs": [
    {
     "name": "stdout",
     "output_type": "stream",
     "text": [
      "+-------------+-------------+-----------+-----------------+---------+--------+------------+----------+-------------+---------+---+--------+---------------+-----------+-----+---------+--------------------+-------+------------------+------------------+--------------------+------------------+\n",
      "| produto_nome|   fornecedor|  categoria|    sub_categoria|flg_prodt|cod_loja|ano_abertura|  regional|     distrito|   cidade| uf|flg_loja|unidade_negocio|flg_unidade|canal|flg_canal|        tipo_cliente|   data|  qtd_venda_mensal|valor_venda_mensal|valor_imposto_mensal|valor_custo_mensal|\n",
      "+-------------+-------------+-----------+-----------------+---------+--------+------------+----------+-------------+---------+---+--------+---------------+-----------+-----+---------+--------------------+-------+------------------+------------------+--------------------+------------------+\n",
      "|Produto 11042|Fornecedor 26|Categoria 2|Subcategoria C2.2|        1|  Loja 1|        2013|Regional 1|Distrito R1.1|Sao Paulo| SP|       1|       Produtos|          1| Loja|        1|tipo_cliente_1546...|2019-02|  91.2000036239624| 1708.524010181427|  157.93799704313278| 877.0080127716064|\n",
      "|Produto 11042|Fornecedor 26|Categoria 2|Subcategoria C2.2|        1|  Loja 1|        2013|Regional 1|Distrito R1.1|Sao Paulo| SP|       1|       Produtos|          1| Loja|        1|tipo_cliente_1546...|2019-12|117.60000455379486|2263.4580125808716|  210.02999711036682|1102.0620074272156|\n",
      "|Produto 11042|Fornecedor 26|Categoria 2|Subcategoria C2.2|        1|  Loja 1|        2013|Regional 1|Distrito R1.1|Sao Paulo| SP|       1|       Produtos|          1| Loja|        1|tipo_cliente_1546...|2018-05|  60.0000022649765|1147.8420009613037|  106.01999735832214| 563.1599955558777|\n",
      "|Produto 11042|Fornecedor 26|Categoria 2|Subcategoria C2.2|        1|  Loja 1|        2013|Regional 1|Distrito R1.1|Sao Paulo| SP|       1|       Produtos|          1| Loja|        1|tipo_cliente_1546...|2019-07|113.40000450611115|2155.5540103912354|  199.06799584627151|1076.8199772834778|\n",
      "|Produto 11042|Fornecedor 26|Categoria 2|Subcategoria C2.2|        1|  Loja 1|        2013|Regional 1|Distrito R1.1|Sao Paulo| SP|       1|       Produtos|          1| Loja|        1|tipo_cliente_1546...|2018-12| 78.00000309944153| 1487.382004737854|  137.40599697828293| 734.1539855003357|\n",
      "|Produto 11042|Fornecedor 26|Categoria 2|Subcategoria C2.2|        1|  Loja 1|        2013|Regional 1|Distrito R1.1|Sao Paulo| SP|       1|       Produtos|          1| Loja|        1|tipo_cliente_1546...|2018-11| 88.20000338554382|1664.7900052070618|  153.76799723505974| 830.0639853477478|\n",
      "|Produto 11042|Fornecedor 26|Categoria 2|Subcategoria C2.2|        1|  Loja 1|        2013|Regional 1|Distrito R1.1|Sao Paulo| SP|       1|       Produtos|          1| Loja|        1|tipo_cliente_1546...|2019-05|117.60000467300415|2222.0640058517456|  212.75999557971954|1114.3980026245117|\n",
      "|Produto 11042|Fornecedor 26|Categoria 2|Subcategoria C2.2|        1|  Loja 1|        2013|Regional 1|Distrito R1.1|Sao Paulo| SP|       1|       Produtos|          1| Loja|        1|tipo_cliente_1546...|2019-06|100.20000398159027|1896.0060052871704|  175.17599654197693| 946.4039769172668|\n",
      "|Produto 11042|Fornecedor 26|Categoria 2|Subcategoria C2.2|        1|  Loja 1|        2013|Regional 1|Distrito R1.1|Sao Paulo| SP|       1|       Produtos|          1| Loja|        1|tipo_cliente_1546...|2019-11|109.20000433921814|2072.5500049591064|  191.45999604463577|1003.5840034484863|\n",
      "|Produto 11042|Fornecedor 26|Categoria 2|Subcategoria C2.2|        1|  Loja 1|        2013|Regional 1|Distrito R1.1|Sao Paulo| SP|       1|       Produtos|          1| Loja|        1|tipo_cliente_1546...|2018-01| 45.00000178813934| 897.5040216445923|   83.02800101041794|434.55600452423096|\n",
      "|Produto 11042|Fornecedor 26|Categoria 2|Subcategoria C2.2|        1|  Loja 1|        2013|Regional 1|Distrito R1.1|Sao Paulo| SP|       1|       Produtos|          1| Loja|        1|tipo_cliente_1546...|2019-04|103.80000412464142|1958.2680096626282|  180.85799649357796| 981.2040138244629|\n",
      "|Produto 11042|Fornecedor 26|Categoria 2|Subcategoria C2.2|        1|  Loja 1|        2013|Regional 1|Distrito R1.1|Sao Paulo| SP|       1|       Produtos|          1| Loja|        1|tipo_cliente_1546...|2018-07| 66.60000264644623|1256.7059988975525|  116.08199715614319|  628.416018486023|\n",
      "|Produto 11042|Fornecedor 26|Categoria 2|Subcategoria C2.2|        1|  Loja 1|        2013|Regional 1|Distrito R1.1|Sao Paulo| SP|       1|       Produtos|          1| Loja|        1|tipo_cliente_1546...|2018-08| 61.20000231266022| 1151.124002456665|   106.3259973526001| 571.9440159797668|\n",
      "|Produto 11042|Fornecedor 26|Categoria 2|Subcategoria C2.2|        1|  Loja 1|        2013|Regional 1|Distrito R1.1|Sao Paulo| SP|       1|       Produtos|          1| Loja|        1|tipo_cliente_1546...|2018-09|  68.4000027179718| 1293.204005241394|  119.45399725437164| 641.8260045051575|\n",
      "|Produto 11042|Fornecedor 26|Categoria 2|Subcategoria C2.2|        1|  Loja 1|        2013|Regional 1|Distrito R1.1|Sao Paulo| SP|       1|       Produtos|          1| Loja|        1|tipo_cliente_1546...|2019-10| 93.00000369548798|1795.6200122833252|      165.8759983778| 864.8699898719788|\n",
      "|Produto 11042|Fornecedor 26|Categoria 2|Subcategoria C2.2|        1|  Loja 1|        2013|Regional 1|Distrito R1.1|Sao Paulo| SP|       1|       Produtos|          1| Loja|        1|tipo_cliente_1546...|2018-03| 65.40000259876251|1315.5720233917236|  121.69200044870377| 601.0080041885376|\n",
      "|Produto 11042|Fornecedor 26|Categoria 2|Subcategoria C2.2|        1|  Loja 1|        2013|Regional 1|Distrito R1.1|Sao Paulo| SP|       1|       Produtos|          1| Loja|        1|tipo_cliente_1546...|2019-08| 95.40000379085541| 1798.890009880066|   169.7459967136383| 892.7399883270264|\n",
      "|Produto 11042|Fornecedor 26|Categoria 2|Subcategoria C2.2|        1|  Loja 1|        2013|Regional 1|Distrito R1.1|Sao Paulo| SP|       1|       Produtos|          1| Loja|        1|tipo_cliente_1546...|2019-01| 89.40000355243683|1692.2820081710815|  156.26999682188034| 848.1299958229065|\n",
      "|Produto 11042|Fornecedor 26|Categoria 2|Subcategoria C2.2|        1|  Loja 1|        2013|Regional 1|Distrito R1.1|Sao Paulo| SP|       1|       Produtos|          1| Loja|        1|tipo_cliente_1546...|2018-02|44.400001764297485| 879.8160228729248|   81.39600110054016| 418.9860053062439|\n",
      "|Produto 11042|Fornecedor 26|Categoria 2|Subcategoria C2.2|        1|  Loja 1|        2013|Regional 1|Distrito R1.1|Sao Paulo| SP|       1|       Produtos|          1| Loja|        1|tipo_cliente_1546...|2018-10| 82.20000314712524| 1553.280005455017|  143.46599760651588| 774.0359950065613|\n",
      "+-------------+-------------+-----------+-----------------+---------+--------+------------+----------+-------------+---------+---+--------+---------------+-----------+-----+---------+--------------------+-------+------------------+------------------+--------------------+------------------+\n",
      "only showing top 20 rows\n",
      "\n"
     ]
    }
   ],
   "source": [
    "dataset_v05.show()"
   ]
  },
  {
   "cell_type": "code",
   "execution_count": null,
   "id": "7ae5196c",
   "metadata": {},
   "outputs": [],
   "source": [
    "+-------------+-------------+-----------+-----------------+---------+--------+------------+----------+-------------+---------+---+--------+---------------+-----------+-----+---------+--------------------+-------+------------------+------------------+--------------------+------------------+\n",
    "| produto_nome|   fornecedor|  categoria|    sub_categoria|flg_prodt|cod_loja|ano_abertura|  regional|     distrito|   cidade| uf|flg_loja|unidade_negocio|flg_unidade|canal|flg_canal|        tipo_cliente|   data|  qtd_venda_mensal|valor_venda_mensal|valor_imposto_mensal|valor_custo_mensal|\n",
    "+-------------+-------------+-----------+-----------------+---------+--------+------------+----------+-------------+---------+---+--------+---------------+-----------+-----+---------+--------------------+-------+------------------+------------------+--------------------+------------------+\n",
    "|Produto 11042|Fornecedor 26|Categoria 2|Subcategoria C2.2|        1|  Loja 1|        2013|Regional 1|Distrito R1.1|Sao Paulo| SP|       1|       Produtos|          1| Loja|        1|tipo_cliente_1546...|2019-02|  91.2000036239624| 1708.524010181427|  157.93799704313278| 877.0080127716064|\n",
    "|Produto 11042|Fornecedor 26|Categoria 2|Subcategoria C2.2|        1|  Loja 1|        2013|Regional 1|Distrito R1.1|Sao Paulo| SP|       1|       Produtos|          1| Loja|        1|tipo_cliente_1546...|2019-12|117.60000455379486|2263.4580125808716|  210.02999711036682|1102.0620074272156|\n",
    "|Produto 11042|Fornecedor 26|Categoria 2|Subcategoria C2.2|        1|  Loja 1|        2013|Regional 1|Distrito R1.1|Sao Paulo| SP|       1|       Produtos|          1| Loja|        1|tipo_cliente_1546...|2018-05|  60.0000022649765|1147.8420009613037|  106.01999735832214| 563.1599955558777|\n",
    "|Produto 11042|Fornecedor 26|Categoria 2|Subcategoria C2.2|        1|  Loja 1|        2013|Regional 1|Distrito R1.1|Sao Paulo| SP|       1|       Produtos|          1| Loja|        1|tipo_cliente_1546...|2019-07|113.40000450611115|2155.5540103912354|  199.06799584627151|1076.8199772834778|\n",
    "|Produto 11042|Fornecedor 26|Categoria 2|Subcategoria C2.2|        1|  Loja 1|        2013|Regional 1|Distrito R1.1|Sao Paulo| SP|       1|       Produtos|          1| Loja|        1|tipo_cliente_1546...|2018-12| 78.00000309944153| 1487.382004737854|  137.40599697828293| 734.1539855003357|\n",
    "|Produto 11042|Fornecedor 26|Categoria 2|Subcategoria C2.2|        1|  Loja 1|        2013|Regional 1|Distrito R1.1|Sao Paulo| SP|       1|       Produtos|          1| Loja|        1|tipo_cliente_1546...|2018-11| 88.20000338554382|1664.7900052070618|  153.76799723505974| 830.0639853477478|\n",
    "|Produto 11042|Fornecedor 26|Categoria 2|Subcategoria C2.2|        1|  Loja 1|        2013|Regional 1|Distrito R1.1|Sao Paulo| SP|       1|       Produtos|          1| Loja|        1|tipo_cliente_1546...|2019-05|117.60000467300415|2222.0640058517456|  212.75999557971954|1114.3980026245117|\n",
    "|Produto 11042|Fornecedor 26|Categoria 2|Subcategoria C2.2|        1|  Loja 1|        2013|Regional 1|Distrito R1.1|Sao Paulo| SP|       1|       Produtos|          1| Loja|        1|tipo_cliente_1546...|2019-06|100.20000398159027|1896.0060052871704|  175.17599654197693| 946.4039769172668|\n",
    "|Produto 11042|Fornecedor 26|Categoria 2|Subcategoria C2.2|        1|  Loja 1|        2013|Regional 1|Distrito R1.1|Sao Paulo| SP|       1|       Produtos|          1| Loja|        1|tipo_cliente_1546...|2019-11|109.20000433921814|2072.5500049591064|  191.45999604463577|1003.5840034484863|\n",
    "|Produto 11042|Fornecedor 26|Categoria 2|Subcategoria C2.2|        1|  Loja 1|        2013|Regional 1|Distrito R1.1|Sao Paulo| SP|       1|       Produtos|          1| Loja|        1|tipo_cliente_1546...|2018-01| 45.00000178813934| 897.5040216445923|   83.02800101041794|434.55600452423096|\n",
    "|Produto 11042|Fornecedor 26|Categoria 2|Subcategoria C2.2|        1|  Loja 1|        2013|Regional 1|Distrito R1.1|Sao Paulo| SP|       1|       Produtos|          1| Loja|        1|tipo_cliente_1546...|2019-04|103.80000412464142|1958.2680096626282|  180.85799649357796| 981.2040138244629|\n",
    "|Produto 11042|Fornecedor 26|Categoria 2|Subcategoria C2.2|        1|  Loja 1|        2013|Regional 1|Distrito R1.1|Sao Paulo| SP|       1|       Produtos|          1| Loja|        1|tipo_cliente_1546...|2018-07| 66.60000264644623|1256.7059988975525|  116.08199715614319|  628.416018486023|\n",
    "|Produto 11042|Fornecedor 26|Categoria 2|Subcategoria C2.2|        1|  Loja 1|        2013|Regional 1|Distrito R1.1|Sao Paulo| SP|       1|       Produtos|          1| Loja|        1|tipo_cliente_1546...|2018-08| 61.20000231266022| 1151.124002456665|   106.3259973526001| 571.9440159797668|\n",
    "|Produto 11042|Fornecedor 26|Categoria 2|Subcategoria C2.2|        1|  Loja 1|        2013|Regional 1|Distrito R1.1|Sao Paulo| SP|       1|       Produtos|          1| Loja|        1|tipo_cliente_1546...|2018-09|  68.4000027179718| 1293.204005241394|  119.45399725437164| 641.8260045051575|\n",
    "|Produto 11042|Fornecedor 26|Categoria 2|Subcategoria C2.2|        1|  Loja 1|        2013|Regional 1|Distrito R1.1|Sao Paulo| SP|       1|       Produtos|          1| Loja|        1|tipo_cliente_1546...|2019-10| 93.00000369548798|1795.6200122833252|      165.8759983778| 864.8699898719788|\n",
    "|Produto 11042|Fornecedor 26|Categoria 2|Subcategoria C2.2|        1|  Loja 1|        2013|Regional 1|Distrito R1.1|Sao Paulo| SP|       1|       Produtos|          1| Loja|        1|tipo_cliente_1546...|2018-03| 65.40000259876251|1315.5720233917236|  121.69200044870377| 601.0080041885376|\n",
    "|Produto 11042|Fornecedor 26|Categoria 2|Subcategoria C2.2|        1|  Loja 1|        2013|Regional 1|Distrito R1.1|Sao Paulo| SP|       1|       Produtos|          1| Loja|        1|tipo_cliente_1546...|2019-08| 95.40000379085541| 1798.890009880066|   169.7459967136383| 892.7399883270264|\n",
    "|Produto 11042|Fornecedor 26|Categoria 2|Subcategoria C2.2|        1|  Loja 1|        2013|Regional 1|Distrito R1.1|Sao Paulo| SP|       1|       Produtos|          1| Loja|        1|tipo_cliente_1546...|2019-01| 89.40000355243683|1692.2820081710815|  156.26999682188034| 848.1299958229065|\n",
    "|Produto 11042|Fornecedor 26|Categoria 2|Subcategoria C2.2|        1|  Loja 1|        2013|Regional 1|Distrito R1.1|Sao Paulo| SP|       1|       Produtos|          1| Loja|        1|tipo_cliente_1546...|2018-02|44.400001764297485| 879.8160228729248|   81.39600110054016| 418.9860053062439|\n",
    "|Produto 11042|Fornecedor 26|Categoria 2|Subcategoria C2.2|        1|  Loja 1|        2013|Regional 1|Distrito R1.1|Sao Paulo| SP|       1|       Produtos|          1| Loja|        1|tipo_cliente_1546...|2018-10| 82.20000314712524| 1553.280005455017|  143.46599760651588| 774.0359950065613|\n",
    "+-------------+-------------+-----------+-----------------+---------+--------+------------+----------+-------------+---------+---+--------+---------------+-----------+-----+---------+--------------------+-------+------------------+------------------+--------------------+------------------+\n",
    "only showing top 20 rows"
   ]
  },
  {
   "cell_type": "markdown",
   "id": "a00b517c",
   "metadata": {},
   "source": [
    "# Sumário das variáveis numéricas & Esquema geral"
   ]
  },
  {
   "cell_type": "code",
   "execution_count": 135,
   "id": "cb4c2150",
   "metadata": {},
   "outputs": [
    {
     "name": "stdout",
     "output_type": "stream",
     "text": [
      "root\n",
      " |-- produto_nome: string (nullable = true)\n",
      " |-- fornecedor: string (nullable = true)\n",
      " |-- categoria: string (nullable = true)\n",
      " |-- sub_categoria: string (nullable = true)\n",
      " |-- flg_prodt: integer (nullable = false)\n",
      " |-- cod_loja: string (nullable = true)\n",
      " |-- ano_abertura: string (nullable = true)\n",
      " |-- regional: string (nullable = true)\n",
      " |-- distrito: string (nullable = true)\n",
      " |-- cidade: string (nullable = true)\n",
      " |-- uf: string (nullable = true)\n",
      " |-- flg_loja: integer (nullable = false)\n",
      " |-- unidade_negocio: string (nullable = true)\n",
      " |-- flg_unidade: integer (nullable = false)\n",
      " |-- canal: string (nullable = true)\n",
      " |-- flg_canal: integer (nullable = false)\n",
      " |-- tipo_cliente: string (nullable = true)\n",
      " |-- data: string (nullable = true)\n",
      " |-- qtd_venda_mensal: double (nullable = true)\n",
      " |-- valor_venda_mensal: double (nullable = true)\n",
      " |-- valor_imposto_mensal: double (nullable = true)\n",
      " |-- valor_custo_mensal: double (nullable = true)\n",
      "\n",
      "+-------+------------------+--------------------+--------------------+--------------------+\n",
      "|summary|  qtd_venda_mensal|  valor_venda_mensal|valor_imposto_mensal|  valor_custo_mensal|\n",
      "+-------+------------------+--------------------+--------------------+--------------------+\n",
      "|  count|           1774489|             1774489|             1774489|             1774489|\n",
      "|   mean| 30.94479951668576|   704.1909960540074|  114.94008821458473|  327.16420094062767|\n",
      "| stddev| 85.15158411417168|  1737.3766708646438|   353.5630728366036|   821.6376271874021|\n",
      "|    min|0.6000000238418579|0.006000000052154064|0.006000000052154064|0.006000000052154064|\n",
      "|    25%|2.4000000953674316|   70.39800024032593|  13.446000337600708|   23.41800022125244|\n",
      "|    50%| 6.600000262260437|    198.432000041008|   35.55600023269653|   74.89199876785278|\n",
      "|    75%| 21.00000035762787|   598.3799896240234|   93.24599885940552|  269.43600368499756|\n",
      "|    max| 1598.400019288063|   40301.21411514282|  10982.088053703308|   18604.51194000244|\n",
      "+-------+------------------+--------------------+--------------------+--------------------+\n",
      "\n"
     ]
    }
   ],
   "source": [
    "dataset_v05.printSchema()\n",
    "dataset_v05.select('qtd_venda_mensal', 'valor_venda_mensal', 'valor_imposto_mensal', 'valor_custo_mensal').summary().show()"
   ]
  },
  {
   "cell_type": "markdown",
   "id": "f7fda0ac",
   "metadata": {},
   "source": [
    "# Box-plot"
   ]
  },
  {
   "cell_type": "code",
   "execution_count": 136,
   "id": "78901e70",
   "metadata": {},
   "outputs": [
    {
     "data": {
      "image/png": "[encoded data removed]",
      "text/plain": [
       "<Figure size 1008x720 with 1 Axes>"
      ]
     },
     "metadata": {
      "needs_background": "light"
     },
     "output_type": "display_data"
    }
   ],
   "source": [
    "numeric_cols = ['qtd_venda_mensal', 'valor_venda_mensal', 'valor_imposto_mensal', 'valor_custo_mensal']\n",
    "# Passando para o pandas\n",
    "df_pd = dataset_v05.select(numeric_cols).groupBy(numeric_cols).count().sample(fraction = 0.05).toPandas()\n",
    "df_pd.boxplot(column = numeric_cols, figsize = (14,10))\n",
    "plt.show()"
   ]
  },
  {
   "cell_type": "markdown",
   "id": "18551589",
   "metadata": {},
   "source": [
    "# Retirando outliers"
   ]
  },
  {
   "cell_type": "code",
   "execution_count": 14,
   "id": "0fd13502",
   "metadata": {},
   "outputs": [],
   "source": [
    "# Como observado, existem diversos outliers, de acordo com o sumário e o box-plot, removeremos alguns destes\n",
    "\n",
    "dataset_v06 = dataset_v05.where(col('qtd_venda_mensal') < 60).where(col('valor_venda_mensal') < 1500)\\\n",
    "                        .where(col('valor_imposto_mensal') < 200).where(col('valor_custo_mensal') < 600)"
   ]
  },
  {
   "cell_type": "markdown",
   "id": "dc599438",
   "metadata": {},
   "source": [
    "# Contagem antes e após remoção de outliers"
   ]
  },
  {
   "cell_type": "code",
   "execution_count": 138,
   "id": "68b84b37",
   "metadata": {},
   "outputs": [
    {
     "data": {
      "text/plain": [
       "1774489"
      ]
     },
     "execution_count": 138,
     "metadata": {},
     "output_type": "execute_result"
    }
   ],
   "source": [
    "# Antes\n",
    "\n",
    "dataset_v05.count()"
   ]
  },
  {
   "cell_type": "code",
   "execution_count": 139,
   "id": "2298fa4f",
   "metadata": {},
   "outputs": [
    {
     "data": {
      "text/plain": [
       "1392716"
      ]
     },
     "execution_count": 139,
     "metadata": {},
     "output_type": "execute_result"
    }
   ],
   "source": [
    "# Depois\n",
    "\n",
    "dataset_v06.count()"
   ]
  },
  {
   "cell_type": "markdown",
   "id": "17fd4cd3",
   "metadata": {},
   "source": [
    "# Histogramas"
   ]
  },
  {
   "cell_type": "code",
   "execution_count": 140,
   "id": "746c262a",
   "metadata": {},
   "outputs": [
    {
     "data": {
      "image/png": "[encoded data removed]",
      "text/plain": [
       "<Figure size 864x576 with 1 Axes>"
      ]
     },
     "metadata": {
      "needs_background": "light"
     },
     "output_type": "display_data"
    },
    {
     "data": {
      "image/png": "[encoded data removed]",
      "text/plain": [
       "<Figure size 864x576 with 1 Axes>"
      ]
     },
     "metadata": {
      "needs_background": "light"
     },
     "output_type": "display_data"
    },
    {
     "data": {
      "image/png": "[encoded data removed]",
      "text/plain": [
       "<Figure size 864x576 with 1 Axes>"
      ]
     },
     "metadata": {
      "needs_background": "light"
     },
     "output_type": "display_data"
    },
    {
     "data": {
      "image/png": "[encoded data removed]",
      "text/plain": [
       "<Figure size 864x576 with 1 Axes>"
      ]
     },
     "metadata": {
      "needs_background": "light"
     },
     "output_type": "display_data"
    }
   ],
   "source": [
    "# df_pd = dataset_v06.select(numeric_cols).groupBy(numeric_cols).count().sample(fraction = 0.05).toPandas()\n",
    "for i in numeric_cols:\n",
    "    plt.figure(figsize = (12, 8))\n",
    "    plt.title(i, fontsize = 22)\n",
    "    plt.hist(df_pd[i], bins = 14)"
   ]
  },
  {
   "cell_type": "markdown",
   "id": "77c04e46",
   "metadata": {},
   "source": [
    "### Como é possível observar, as variáveis são assimétricas"
   ]
  },
  {
   "cell_type": "markdown",
   "id": "342a04e0",
   "metadata": {},
   "source": [
    "# Selecionando datas para os dados a serem modelados"
   ]
  },
  {
   "cell_type": "code",
   "execution_count": 141,
   "id": "7e605280",
   "metadata": {},
   "outputs": [
    {
     "name": "stdout",
     "output_type": "stream",
     "text": [
      "+-------+\n",
      "|   data|\n",
      "+-------+\n",
      "|2019-12|\n",
      "|2019-11|\n",
      "|2019-10|\n",
      "|2019-09|\n",
      "|2019-08|\n",
      "|2019-07|\n",
      "|2019-06|\n",
      "|2019-05|\n",
      "|2019-04|\n",
      "|2019-03|\n",
      "|2019-02|\n",
      "|2019-01|\n",
      "|2018-12|\n",
      "|2018-11|\n",
      "|2018-10|\n",
      "|2018-09|\n",
      "|2018-08|\n",
      "|2018-07|\n",
      "|2018-06|\n",
      "|2018-05|\n",
      "|2018-04|\n",
      "|2018-03|\n",
      "|2018-02|\n",
      "|2018-01|\n",
      "+-------+\n",
      "\n"
     ]
    }
   ],
   "source": [
    "# Avaliando intervalo de tempo disponível\n",
    "\n",
    "dataset_v06.select('data').distinct().orderBy('data', ascending = False).show(200)"
   ]
  },
  {
   "cell_type": "code",
   "execution_count": 142,
   "id": "db5cae68",
   "metadata": {},
   "outputs": [],
   "source": [
    "# Separando os últimos 6 meses para a modelagem\n",
    "\n",
    "num_meses = 6\n",
    "data_primeira = dataset_v06.select('data').distinct().orderBy('data', ascending = False).collect()[num_meses-1]\n",
    "dataset_v07 = dataset_v06.where(col('data') >= data_primeira[0])"
   ]
  },
  {
   "cell_type": "markdown",
   "id": "7264352b",
   "metadata": {},
   "source": [
    "# Recontagem de registros para o intervalo de tempo selecionado"
   ]
  },
  {
   "cell_type": "code",
   "execution_count": 143,
   "id": "23e62f57",
   "metadata": {},
   "outputs": [
    {
     "data": {
      "text/plain": [
       "361177"
      ]
     },
     "execution_count": 143,
     "metadata": {},
     "output_type": "execute_result"
    }
   ],
   "source": [
    "dataset_v07.count()"
   ]
  },
  {
   "cell_type": "markdown",
   "id": "45059a6d",
   "metadata": {},
   "source": [
    "# Parametrizando coluna de datas"
   ]
  },
  {
   "cell_type": "code",
   "execution_count": 162,
   "id": "27a78eb7",
   "metadata": {},
   "outputs": [],
   "source": [
    "data_sequencia = dataset_v07.select('data').distinct().orderBy('data').withColumn('data_sequencia', \n",
    "                                                                                  (monotonically_increasing_id() + 1))\n",
    "dataset_v08 = dataset_v07.join(data_sequencia, on='data', how='left').distinct()"
   ]
  },
  {
   "cell_type": "markdown",
   "id": "640edd54",
   "metadata": {},
   "source": [
    "# Persistindo na base o dataset final após estudos"
   ]
  },
  {
   "cell_type": "code",
   "execution_count": 163,
   "id": "5beab45b",
   "metadata": {},
   "outputs": [],
   "source": [
    "dataset_v08.toPandas().to_csv('teste_petz/saves/dataset_processado.csv') # .write.format('csv').mode('overwrite').saveAsTable()"
   ]
  },
  {
   "cell_type": "markdown",
   "id": "fc0dec7b",
   "metadata": {},
   "source": [
    "# Recarregando Dataset"
   ]
  },
  {
   "cell_type": "code",
   "execution_count": 4,
   "id": "75ff4fc0",
   "metadata": {},
   "outputs": [],
   "source": [
    "dataset_v08 = spark.read.csv('teste_petz/saves/dataset_processado.csv', header = True)"
   ]
  },
  {
   "cell_type": "markdown",
   "id": "8892f95b",
   "metadata": {},
   "source": [
    "# Selecionando variáveis de interesse para modelagem"
   ]
  },
  {
   "cell_type": "markdown",
   "id": "349053da",
   "metadata": {},
   "source": [
    "##### Parâmetros"
   ]
  },
  {
   "cell_type": "code",
   "execution_count": 5,
   "id": "97ee4904",
   "metadata": {},
   "outputs": [],
   "source": [
    "# Para uma projeção de vendas de produtos, foram selecionadas variáveis contínuas para um modelo de regressão!\n",
    "# Coluna de produtos\n",
    "pk_col = 'produto_nome'\n",
    "# Variáveis\n",
    "x_cols = ['data_sequencia', 'valor_venda_mensal', 'valor_imposto_mensal', 'valor_custo_mensal']\n",
    "# Variável resposta 'y'\n",
    "target = 'qtd_venda_mensal'\n",
    "df = dataset_v08.select('produto_nome', col('qtd_venda_mensal').cast('float'), col('data_sequencia').cast('float'), \n",
    "                        col('valor_venda_mensal').cast('float'), col('valor_imposto_mensal').cast('float'), \n",
    "                        col('valor_custo_mensal').cast('float')).distinct()\n",
    "X = dataset_v08.select(col(x_cols[0]).cast('float'),\n",
    "                       col(x_cols[1]).cast('float'),\n",
    "                       col(x_cols[2]).cast('float'),\n",
    "                       col(x_cols[3]).cast('float')).distinct()\n",
    "y = dataset_v08.select(col(target).cast('float')).distinct()"
   ]
  },
  {
   "cell_type": "code",
   "execution_count": 157,
   "id": "d5bf4422",
   "metadata": {},
   "outputs": [
    {
     "name": "stdout",
     "output_type": "stream",
     "text": [
      "+-------------+------------------+--------------+------------------+--------------------+------------------+\n",
      "| produto_nome|  qtd_venda_mensal|data_sequencia|valor_venda_mensal|valor_imposto_mensal|valor_custo_mensal|\n",
      "+-------------+------------------+--------------+------------------+--------------------+------------------+\n",
      "|Produto 14164|3.6000001430511475|             4| 57.56399917602539|  12.131999969482422|17.525999784469604|\n",
      "| Produto 4613|3.6000001430511475|             4| 348.8759956359863|   62.79599857330322| 151.6019992828369|\n",
      "| Produto 1400|15.600000500679016|             4|241.80599784851074|   43.42800009250641| 89.69400095939636|\n",
      "|  Produto 926|0.6000000238418579|             4| 23.97599983215332|   4.079999923706055|7.6020002365112305|\n",
      "| Produto 8946| 4.200000166893005|             4|10.746000009588897|   2.933999943546951| 4.878000020980835|\n",
      "| Produto 9205|21.600000858306885|             4| 716.3700151443481|   127.1579978466034|307.26600074768066|\n",
      "|Produto 15135|30.600000977516174|             4|145.55399990081787|  13.458000004291534| 83.40000021457672|\n",
      "|Produto 12924|24.000000953674316|             4|330.73800706863403|  30.581999599933624| 183.7859983444214|\n",
      "| Produto 6446|0.6000000238418579|             4|20.993999481201172|   5.723999977111816| 8.447999954223633|\n",
      "| Produto 7016|0.6000000238418579|             4|23.993999481201172|   6.539999961853027| 5.021999835968018|\n",
      "|Produto 11629| 25.80000102519989|             4|313.72200083732605|    29.0460002720356|117.75600337982178|\n",
      "| Produto 1357|0.6000000238418579|             4| 95.99400329589844|   26.15999984741211|24.516000747680664|\n",
      "| Produto 1851| 14.40000057220459|             4| 973.9319763183594|  171.28799676895142| 448.4579887390137|\n",
      "| Produto 8652| 4.800000190734863|             4|199.40399932861328|   54.34800052642822| 57.88200092315674|\n",
      "| Produto 3469|1.2000000476837158|             4|17.094000816345215|  4.6499998569488525| 6.570000171661377|\n",
      "| Produto 8154|3.0000001192092896|             4|126.46800231933594|  11.694000005722046|  61.6200008392334|\n",
      "| Produto 9142|1.2000000476837158|             4|10.980000019073486|    2.99399995803833|3.9600000381469727|\n",
      "|Produto 12691|3.6000001430511475|             4|127.48799896240234|  25.139999866485596| 41.94599962234497|\n",
      "| Produto 3338|1.2000000476837158|             4| 258.2879943847656|  23.892000198364258|132.54000091552734|\n",
      "| Produto 2880|15.600000619888306|             4|  609.407995223999|  58.908000469207764|275.32200145721436|\n",
      "+-------------+------------------+--------------+------------------+--------------------+------------------+\n",
      "only showing top 20 rows\n",
      "\n"
     ]
    }
   ],
   "source": [
    "# Dataset completo\n",
    "\n",
    "df.show()"
   ]
  },
  {
   "cell_type": "code",
   "execution_count": 158,
   "id": "35513c66",
   "metadata": {},
   "outputs": [
    {
     "name": "stdout",
     "output_type": "stream",
     "text": [
      "+------------------+\n",
      "|  qtd_venda_mensal|\n",
      "+------------------+\n",
      "|41.400001645088196|\n",
      "|24.600000619888306|\n",
      "| 48.60000193119049|\n",
      "|25.200000643730164|\n",
      "| 44.40000140666962|\n",
      "|34.799999833106995|\n",
      "|27.000000715255737|\n",
      "|31.200001001358032|\n",
      "|27.600000977516174|\n",
      "| 49.20000159740448|\n",
      "|21.600000500679016|\n",
      "| 40.80000114440918|\n",
      "|  26.4000004529953|\n",
      "|5.3999998569488525|\n",
      "| 38.40000069141388|\n",
      "|16.200000524520874|\n",
      "|18.600000262260437|\n",
      "| 43.20000123977661|\n",
      "|10.200000166893005|\n",
      "|59.400001525878906|\n",
      "+------------------+\n",
      "only showing top 20 rows\n",
      "\n"
     ]
    }
   ],
   "source": [
    "# Dataset y, respostas\n",
    "\n",
    "y.show()"
   ]
  },
  {
   "cell_type": "code",
   "execution_count": 159,
   "id": "bf9bdea0",
   "metadata": {},
   "outputs": [
    {
     "name": "stdout",
     "output_type": "stream",
     "text": [
      "+--------------+------------------+--------------------+------------------+\n",
      "|data_sequencia|valor_venda_mensal|valor_imposto_mensal|valor_custo_mensal|\n",
      "+--------------+------------------+--------------------+------------------+\n",
      "|             4| 40.27199935913086|  3.7260000705718994|36.060001373291016|\n",
      "|             4| 173.7300000190735|    27.7319997549057| 88.97999811172485|\n",
      "|             4|32.381999015808105|   8.826000213623047|  9.86400032043457|\n",
      "|             4| 121.9260025024414|   33.22200083732605| 34.48800086975098|\n",
      "|             4|39.797998905181885|   6.005999982357025|14.723999977111816|\n",
      "|             4|121.42200088500977|  11.226000308990479| 55.39799880981445|\n",
      "|             4|1082.9819869995117|  100.17599868774414| 564.2999992370605|\n",
      "|             4| 248.7299976348877|  44.772000789642334|104.00400161743164|\n",
      "|             4|32.453999519348145|   6.467999815940857| 8.700000047683716|\n",
      "|             4| 934.8720054626465|   89.62200093269348| 437.7779941558838|\n",
      "|             4|151.96799850463867|  14.070000052452087| 80.06999921798706|\n",
      "|             4|148.32000160217285|   40.42199993133545| 54.08399963378906|\n",
      "|             4| 795.0599822998047|   73.54200077056885|403.87800788879395|\n",
      "|             4|26.634000778198242|   4.794000148773193| 16.79400062561035|\n",
      "|             4|26.351999282836914|  7.1880000829696655|14.801999568939209|\n",
      "|             4| 62.44199848175049|  17.009999990463257| 16.27199935913086|\n",
      "|             4| 80.07600021362305|   21.81600034236908|  28.0740008354187|\n",
      "|             4|27.552000045776367|                 7.5|14.568000316619873|\n",
      "|             4|246.75000381469727|  43.950000286102295|57.546000480651855|\n",
      "|             4|165.67799758911133|   45.16200017929077| 53.77799844741821|\n",
      "+--------------+------------------+--------------------+------------------+\n",
      "only showing top 20 rows\n",
      "\n"
     ]
    }
   ],
   "source": [
    "# Dataset X, variáveis\n",
    "\n",
    "X.show()"
   ]
  },
  {
   "cell_type": "markdown",
   "id": "21344e7a",
   "metadata": {},
   "source": [
    "# Split do dataset em treino e teste"
   ]
  },
  {
   "cell_type": "code",
   "execution_count": 6,
   "id": "f0f937b9",
   "metadata": {},
   "outputs": [],
   "source": [
    "dadosTrainTest = df.select('produto_nome').distinct().randomSplit([0.75, 0.25])\n",
    "df_train = dadosTrainTest[0].join(df, on='produto_nome', how='inner')\n",
    "df_test = dadosTrainTest[1].join(df, on='produto_nome', how='inner')"
   ]
  },
  {
   "cell_type": "markdown",
   "id": "fa9c89b0",
   "metadata": {},
   "source": [
    "# Modelagem 1"
   ]
  },
  {
   "cell_type": "code",
   "execution_count": 181,
   "id": "ab6dd8d8",
   "metadata": {},
   "outputs": [],
   "source": [
    "assembler = VectorAssembler(inputCols = x_cols, outputCol = 'features')\n",
    "dadosFeatures_train = assembler.transform(df_train).select('qtd_venda_mensal', 'features')\\\n",
    "                                .withColumnRenamed('qtd_venda_mensal', 'label')\n",
    "dadosFeatures_test = assembler.transform(df_test).select('qtd_venda_mensal', 'features')\\\n",
    "                                .withColumnRenamed('qtd_venda_mensal', 'label')"
   ]
  },
  {
   "cell_type": "code",
   "execution_count": 184,
   "id": "94c93e88",
   "metadata": {},
   "outputs": [
    {
     "name": "stdout",
     "output_type": "stream",
     "text": [
      "+---------+---------------------------------------------------------------+\n",
      "|label    |features                                                       |\n",
      "+---------+---------------------------------------------------------------+\n",
      "|0.6      |[4.0,25.194000244140625,6.857999801635742,6.317999839782715]   |\n",
      "|12.0     |[4.0,672.5399780273438,183.26400756835938,234.59999084472656]  |\n",
      "|0.6      |[4.0,9.593999862670898,2.621999979019165,3.9059998989105225]   |\n",
      "|2.4      |[4.0,143.9759979248047,39.2400016784668,52.57200241088867]     |\n",
      "|4.2000003|[4.0,151.6800079345703,26.856000900268555,69.39600372314453]   |\n",
      "|1.8000001|[4.0,131.3820037841797,35.802001953125,39.92399978637695]      |\n",
      "|0.6      |[4.0,34.5,9.402000427246094,11.609999656677246]                |\n",
      "|0.6      |[4.0,8.994000434875488,0.8339999914169312,4.079999923706055]   |\n",
      "|8.400001 |[4.0,540.6840209960938,105.39600372314453,172.66200256347656]  |\n",
      "|1.2      |[4.0,3.7200000286102295,1.0140000581741333,1.0859999656677246] |\n",
      "|4.2000003|[4.0,189.39599609375,32.19599914550781,84.1259994506836]       |\n",
      "|0.6      |[4.0,35.99399948120117,6.480000019073486,13.932000160217285]   |\n",
      "|2.4      |[4.0,48.78000259399414,13.284000396728516,13.5600004196167]    |\n",
      "|3.0000002|[4.0,38.61000061035156,3.569999933242798,14.484000205993652]   |\n",
      "|3.0000002|[4.0,119.97000122070312,32.70000076293945,37.21799850463867]   |\n",
      "|0.6      |[4.0,47.99399948120117,13.079999923706055,15.0600004196167]    |\n",
      "|0.6      |[4.0,62.99399948120117,17.172000885009766,0.006000000052154064]|\n",
      "|1.2      |[4.0,35.987998962402344,3.3239998817443848,10.895999908447266] |\n",
      "|1.8000001|[4.0,33.94200134277344,3.138000011444092,18.972000122070312]   |\n",
      "|1.8000001|[4.0,74.68199920654297,20.34600067138672,36.85799789428711]    |\n",
      "+---------+---------------------------------------------------------------+\n",
      "only showing top 20 rows\n",
      "\n"
     ]
    }
   ],
   "source": [
    "dadosFeatures_train.show(truncate = False)"
   ]
  },
  {
   "cell_type": "markdown",
   "id": "bab3576e",
   "metadata": {},
   "source": [
    "# Obtendo correlações"
   ]
  },
  {
   "cell_type": "code",
   "execution_count": 186,
   "id": "b595cf86",
   "metadata": {},
   "outputs": [
    {
     "name": "stdout",
     "output_type": "stream",
     "text": [
      "DenseMatrix([[ 1.        ,  0.00210867,  0.00452825, -0.00294393],\n",
      "             [ 0.00210867,  1.        ,  0.81773865,  0.96296724],\n",
      "             [ 0.00452825,  0.81773865,  1.        ,  0.67747772],\n",
      "             [-0.00294393,  0.96296724,  0.67747772,  1.        ]])\n"
     ]
    }
   ],
   "source": [
    "# Correlação de variáveis\n",
    "\n",
    "correlation1 = Correlation.corr(dadosFeatures_train, 'features')\n",
    "linha1 = correlation1.first()\n",
    "matrix = linha1[0]\n",
    "print(matrix)"
   ]
  },
  {
   "cell_type": "markdown",
   "id": "8f973065",
   "metadata": {},
   "source": [
    "# Treinando modelo"
   ]
  },
  {
   "cell_type": "code",
   "execution_count": 208,
   "id": "0730ad8d",
   "metadata": {},
   "outputs": [],
   "source": [
    "lr = LinearRegression()\n",
    "lrModel = lr.fit(dadosFeatures_train)"
   ]
  },
  {
   "cell_type": "code",
   "execution_count": 209,
   "id": "b91a3b01",
   "metadata": {},
   "outputs": [
    {
     "name": "stdout",
     "output_type": "stream",
     "text": [
      "R2:  0.17663604152958823\n",
      "RMSE:  7.724733633679283\n"
     ]
    }
   ],
   "source": [
    "print(\"R2: \", lrModel.summary.r2)\n",
    "print(\"RMSE: \", lrModel.summary.rootMeanSquaredError)"
   ]
  },
  {
   "cell_type": "code",
   "execution_count": 211,
   "id": "648dc71c",
   "metadata": {},
   "outputs": [
    {
     "name": "stdout",
     "output_type": "stream",
     "text": [
      "+---------+--------------------+------------------+\n",
      "|    label|            features|        prediction|\n",
      "+---------+--------------------+------------------+\n",
      "|      2.4|[4.0,52.164001464...| 3.666738445709134|\n",
      "|     49.2|[4.0,379.01998901...|10.002719938693536|\n",
      "|3.0000002|[4.0,658.44598388...|16.711225846505442|\n",
      "|1.8000001|[4.0,194.20800781...| 7.077617460543561|\n",
      "|      9.0|[4.0,537.86999511...|12.994919202890648|\n",
      "|      2.4|[4.0,227.58000183...| 8.833844139992044|\n",
      "|      5.4|[4.0,96.041999816...| 4.509022981053711|\n",
      "|36.600002|[4.0,362.60400390...|10.173163306985813|\n",
      "|4.2000003|[4.0,82.068000793...|3.7976268099316526|\n",
      "|      1.2|[4.0,14.574000358...| 2.972919378775683|\n",
      "|      2.4|[4.0,406.30200195...|11.894421769354134|\n",
      "|3.0000002|[4.0,222.34199523...| 7.635306992340736|\n",
      "|      1.2|[4.0,4.7880001068...| 2.774390138495174|\n",
      "|      0.6|[4.0,14.994000434...| 2.952988073651296|\n",
      "|      0.6|[4.0,7.7699999809...|  2.85210662965656|\n",
      "| 8.400001|[4.0,211.02000427...| 7.638061535418371|\n",
      "|     37.8|[4.0,474.65399169...| 8.734330811188217|\n",
      "|1.8000001|[4.0,142.18200683...| 5.700485968412501|\n",
      "|     22.2|[4.0,296.45999145...|   6.9657427035261|\n",
      "|10.200001|[4.0,132.89399719...| 5.337748759957592|\n",
      "+---------+--------------------+------------------+\n",
      "only showing top 20 rows\n",
      "\n"
     ]
    }
   ],
   "source": [
    "lrModel.transform(dadosFeatures_test).show()"
   ]
  },
  {
   "cell_type": "markdown",
   "id": "e517d8cb",
   "metadata": {},
   "source": [
    "# Modelagem 2"
   ]
  },
  {
   "cell_type": "code",
   "execution_count": 218,
   "id": "0918848f",
   "metadata": {},
   "outputs": [],
   "source": [
    "x_cols_2 = ['data_sequencia', 'valor_venda_mensal']\n",
    "assembler_2 = VectorAssembler(inputCols = x_cols_2, outputCol = 'features')\n",
    "dadosFeatures_train_2 = assembler_2.transform(df_train).select('qtd_venda_mensal', 'features')\\\n",
    "                                .withColumnRenamed('qtd_venda_mensal', 'label')\n",
    "dadosFeatures_test_2 = assembler_2.transform(df_test).select('qtd_venda_mensal', 'features')\\\n",
    "                                .withColumnRenamed('qtd_venda_mensal', 'label')"
   ]
  },
  {
   "cell_type": "code",
   "execution_count": 219,
   "id": "bac43c9e",
   "metadata": {},
   "outputs": [],
   "source": [
    "lr_2 = LinearRegression()\n",
    "lrModel_2 = lr_2.fit(dadosFeatures_train_2)"
   ]
  },
  {
   "cell_type": "code",
   "execution_count": 220,
   "id": "40f30d2d",
   "metadata": {},
   "outputs": [
    {
     "name": "stdout",
     "output_type": "stream",
     "text": [
      "R2:  0.16033951086862241\n",
      "RMSE:  7.8008054250340315\n"
     ]
    }
   ],
   "source": [
    "print(\"R2: \", lrModel_2.summary.r2)\n",
    "print(\"RMSE: \", lrModel_2.summary.rootMeanSquaredError)"
   ]
  },
  {
   "cell_type": "markdown",
   "id": "98855378",
   "metadata": {},
   "source": [
    "# Modelagem 3"
   ]
  },
  {
   "cell_type": "code",
   "execution_count": 221,
   "id": "ccd262c2",
   "metadata": {},
   "outputs": [],
   "source": [
    "x_cols_3 = ['data_sequencia', 'valor_venda_mensal', 'valor_imposto_mensal']\n",
    "assembler_3 = VectorAssembler(inputCols = x_cols_3, outputCol = 'features')\n",
    "dadosFeatures_train_3 = assembler_3.transform(df_train).select('qtd_venda_mensal', 'features')\\\n",
    "                                .withColumnRenamed('qtd_venda_mensal', 'label')\n",
    "dadosFeatures_test_3 = assembler_3.transform(df_test).select('qtd_venda_mensal', 'features')\\\n",
    "                                .withColumnRenamed('qtd_venda_mensal', 'label')"
   ]
  },
  {
   "cell_type": "code",
   "execution_count": 222,
   "id": "74f12804",
   "metadata": {},
   "outputs": [],
   "source": [
    "lr_3 = LinearRegression()\n",
    "lrModel_3 = lr_3.fit(dadosFeatures_train_3)"
   ]
  },
  {
   "cell_type": "code",
   "execution_count": 224,
   "id": "ec5d544a",
   "metadata": {},
   "outputs": [
    {
     "name": "stdout",
     "output_type": "stream",
     "text": [
      "R2:  0.1679476922966876\n",
      "RMSE:  7.765383371081166\n"
     ]
    }
   ],
   "source": [
    "print(\"R2: \", lrModel_3.summary.r2)\n",
    "print(\"RMSE: \", lrModel_3.summary.rootMeanSquaredError)"
   ]
  },
  {
   "cell_type": "markdown",
   "id": "f7876587",
   "metadata": {},
   "source": [
    "# Modelagem 4"
   ]
  },
  {
   "cell_type": "code",
   "execution_count": 225,
   "id": "d4d61935",
   "metadata": {},
   "outputs": [],
   "source": [
    "x_cols_4 = ['data_sequencia', 'valor_imposto_mensal']\n",
    "assembler_4 = VectorAssembler(inputCols = x_cols_4, outputCol = 'features')\n",
    "dadosFeatures_train_4 = assembler_4.transform(df_train).select('qtd_venda_mensal', 'features')\\\n",
    "                                .withColumnRenamed('qtd_venda_mensal', 'label')\n",
    "dadosFeatures_test_4 = assembler_4.transform(df_test).select('qtd_venda_mensal', 'features')\\\n",
    "                                .withColumnRenamed('qtd_venda_mensal', 'label')"
   ]
  },
  {
   "cell_type": "code",
   "execution_count": 226,
   "id": "0490e030",
   "metadata": {},
   "outputs": [],
   "source": [
    "lr_4 = LinearRegression()\n",
    "lrModel_4 = lr_4.fit(dadosFeatures_train_4)"
   ]
  },
  {
   "cell_type": "code",
   "execution_count": 227,
   "id": "b39b6978",
   "metadata": {},
   "outputs": [
    {
     "name": "stdout",
     "output_type": "stream",
     "text": [
      "R2:  0.14268649487235563\n",
      "RMSE:  7.8823809326632635\n"
     ]
    }
   ],
   "source": [
    "print(\"R2: \", lrModel_4.summary.r2)\n",
    "print(\"RMSE: \", lrModel_4.summary.rootMeanSquaredError)"
   ]
  },
  {
   "cell_type": "markdown",
   "id": "3c81c43e",
   "metadata": {},
   "source": [
    "# Modelagem 5"
   ]
  },
  {
   "cell_type": "code",
   "execution_count": 228,
   "id": "f135f0e4",
   "metadata": {},
   "outputs": [],
   "source": [
    "x_cols_5 = ['data_sequencia', 'valor_custo_mensal']\n",
    "assembler_5 = VectorAssembler(inputCols = x_cols_5, outputCol = 'features')\n",
    "dadosFeatures_train_5 = assembler_5.transform(df_train).select('qtd_venda_mensal', 'features')\\\n",
    "                                .withColumnRenamed('qtd_venda_mensal', 'label')\n",
    "dadosFeatures_test_5 = assembler_5.transform(df_test).select('qtd_venda_mensal', 'features')\\\n",
    "                                .withColumnRenamed('qtd_venda_mensal', 'label')"
   ]
  },
  {
   "cell_type": "code",
   "execution_count": 229,
   "id": "90411056",
   "metadata": {},
   "outputs": [],
   "source": [
    "lr_5 = LinearRegression()\n",
    "lrModel_5 = lr_5.fit(dadosFeatures_train_5)"
   ]
  },
  {
   "cell_type": "code",
   "execution_count": 230,
   "id": "ae7c63b3",
   "metadata": {},
   "outputs": [
    {
     "name": "stdout",
     "output_type": "stream",
     "text": [
      "R2:  0.12339400419899904\n",
      "RMSE:  7.9705777966623845\n"
     ]
    }
   ],
   "source": [
    "print(\"R2: \", lrModel_5.summary.r2)\n",
    "print(\"RMSE: \", lrModel_5.summary.rootMeanSquaredError)"
   ]
  },
  {
   "cell_type": "markdown",
   "id": "3e3fded3",
   "metadata": {},
   "source": [
    "# Modelagem 6"
   ]
  },
  {
   "cell_type": "code",
   "execution_count": 231,
   "id": "526ca0f9",
   "metadata": {},
   "outputs": [],
   "source": [
    "x_cols_6 = ['valor_venda_mensal']\n",
    "assembler_6 = VectorAssembler(inputCols = x_cols_6, outputCol = 'features')\n",
    "dadosFeatures_train_6 = assembler_6.transform(df_train).select('qtd_venda_mensal', 'features')\\\n",
    "                                .withColumnRenamed('qtd_venda_mensal', 'label')\n",
    "dadosFeatures_test_6 = assembler_6.transform(df_test).select('qtd_venda_mensal', 'features')\\\n",
    "                                .withColumnRenamed('qtd_venda_mensal', 'label')"
   ]
  },
  {
   "cell_type": "code",
   "execution_count": 232,
   "id": "6630bac3",
   "metadata": {},
   "outputs": [],
   "source": [
    "lr_6 = LinearRegression()\n",
    "lrModel_6 = lr_6.fit(dadosFeatures_train_6)"
   ]
  },
  {
   "cell_type": "code",
   "execution_count": 233,
   "id": "d3f8e170",
   "metadata": {},
   "outputs": [
    {
     "name": "stdout",
     "output_type": "stream",
     "text": [
      "R2:  0.16006934671052941\n",
      "RMSE:  7.802060294448898\n"
     ]
    }
   ],
   "source": [
    "print(\"R2: \", lrModel_6.summary.r2)\n",
    "print(\"RMSE: \", lrModel_6.summary.rootMeanSquaredError)"
   ]
  },
  {
   "cell_type": "markdown",
   "id": "a5a52761",
   "metadata": {},
   "source": [
    "##### As variáveis possuem bastante correlação com elas mesmas e pouca com a target"
   ]
  },
  {
   "cell_type": "markdown",
   "id": "bf39b0ab",
   "metadata": {},
   "source": [
    "# Predição para os próximos meses"
   ]
  },
  {
   "cell_type": "code",
   "execution_count": 8,
   "id": "64aa1543",
   "metadata": {},
   "outputs": [
    {
     "name": "stdout",
     "output_type": "stream",
     "text": [
      "R2:  0.18474438221135958\n",
      "RMSE:  7.774440863492201\n"
     ]
    }
   ],
   "source": [
    "# O modelo 1 ficou com as melhores métricas, portanto, será utilizado para a predição de 30 a 90 dias \n",
    "# sobre as vendas de cada produto\n",
    "\n",
    "# Retreinando o modelo 1 com todos os dados\n",
    "\n",
    "assembler = VectorAssembler(inputCols = x_cols, outputCol = 'features')\n",
    "dadosFeatures = assembler.transform(df).select('qtd_venda_mensal', 'features')\\\n",
    "                                .withColumnRenamed('qtd_venda_mensal', 'label')\n",
    "lr = LinearRegression()\n",
    "lrModel = lr.fit(dadosFeatures)\n",
    "print(\"R2: \", lrModel.summary.r2)\n",
    "print(\"RMSE: \", lrModel.summary.rootMeanSquaredError)"
   ]
  },
  {
   "cell_type": "code",
   "execution_count": 236,
   "id": "3af73ad3",
   "metadata": {},
   "outputs": [
    {
     "name": "stdout",
     "output_type": "stream",
     "text": [
      "+---------+--------------------+------------------+\n",
      "|    label|            features|        prediction|\n",
      "+---------+--------------------+------------------+\n",
      "|      0.6|[4.0,25.194000244...|3.2905639022378828|\n",
      "|      2.4|[4.0,52.164001464...| 3.666738445709134|\n",
      "|     12.0|[4.0,672.53997802...|16.477764659056398|\n",
      "|      0.6|[4.0,9.5939998626...|2.8474132452832936|\n",
      "|      2.4|[4.0,143.97599792...| 5.533129422194758|\n",
      "|     49.2|[4.0,379.01998901...|10.002719938693536|\n",
      "|4.2000003|[4.0,151.68000793...| 5.157399853791018|\n",
      "|1.8000001|[4.0,131.38200378...| 5.609512619464159|\n",
      "|      0.6|[4.0,34.5,9.40200...| 3.398565229150656|\n",
      "|      0.6|[4.0,8.9940004348...|2.8239915501976665|\n",
      "| 8.400001|[4.0,540.68402099...|14.532736696184802|\n",
      "|3.0000002|[4.0,658.44598388...|16.711225846505442|\n",
      "|      1.2|[4.0,3.7200000286...|2.7581399081627938|\n",
      "|4.2000003|[4.0,189.39599609...| 5.881224952651109|\n",
      "|      0.6|[4.0,35.993999481...|3.3652816908402317|\n",
      "|1.8000001|[4.0,194.20800781...| 7.077617460543561|\n",
      "|      2.4|[4.0,48.780002593...| 3.814668838631486|\n",
      "|3.0000002|[4.0,38.610000610...|3.4435113275814437|\n",
      "|3.0000002|[4.0,119.97000122...| 5.323534060690969|\n",
      "|      0.6|[4.0,47.993999481...|3.7265354207587427|\n",
      "+---------+--------------------+------------------+\n",
      "only showing top 20 rows\n",
      "\n"
     ]
    }
   ],
   "source": [
    "lrModel.transform(dadosFeatures).show()"
   ]
  },
  {
   "cell_type": "markdown",
   "id": "0fd90d0c",
   "metadata": {},
   "source": [
    "# Preparando dataset de predição final"
   ]
  },
  {
   "cell_type": "code",
   "execution_count": 15,
   "id": "05b64eef",
   "metadata": {},
   "outputs": [],
   "source": [
    "data_sequencia = dataset_v05.select('data').distinct().orderBy('data').withColumn('data_sequencia', \n",
    "                                                                                  (monotonically_increasing_id() + 1))\n",
    "dataset_predict = dataset_v05.join(data_sequencia, on='data', how='left').distinct()"
   ]
  },
  {
   "cell_type": "code",
   "execution_count": 16,
   "id": "3820dfe9",
   "metadata": {},
   "outputs": [],
   "source": [
    "# Dataset com as variáveis com valores do último mês estudado, porém, extrapolando a sequência de mês para os próximos\n",
    "\n",
    "w = Window.partitionBy('produto_nome')\n",
    "date_column = 'data_sequencia'\n",
    "\n",
    "# 30 dias de extrapolação\n",
    "df_7 = dataset_predict.withColumn('max_data', max(date_column).over(w))\\\n",
    "        .drop(date_column).distinct().withColumn('data_sequencia', lit(7)).drop('max_data')\n",
    "assembler = VectorAssembler(inputCols = x_cols, outputCol = 'features')\n",
    "dadosFeatures_7 = assembler.transform(df_7).withColumnRenamed('qtd_venda_mensal', 'label')\n",
    "predict_30 = lrModel.transform(dadosFeatures_7)\\\n",
    "                    .withColumn('perc_aumento_demanda', ((col('prediction') - col('label'))/col('label'))*100)\\\n",
    "                        .select('produto_nome', 'prediction', \n",
    "                                'perc_aumento_demanda').withColumnRenamed('prediction', 'predicao_qtd_vendas')\n",
    "\n",
    "# 60 dias de extrapolação\n",
    "df_8 = dataset_predict.withColumn('max_data', max(date_column).over(w))\\\n",
    "        .drop(date_column).distinct().withColumn('data_sequencia', lit(8)).drop('max_data')\n",
    "assembler = VectorAssembler(inputCols = x_cols, outputCol = 'features')\n",
    "dadosFeatures_8 = assembler.transform(df_8).withColumnRenamed('qtd_venda_mensal', 'label')\n",
    "predict_60 =lrModel.transform(dadosFeatures_8)\\\n",
    "                    .withColumn('perc_aumento_demanda', ((col('prediction') - col('label'))/col('label'))*100)\\\n",
    "                        .select('produto_nome', 'prediction', \n",
    "                                'perc_aumento_demanda').withColumnRenamed('prediction', 'predicao_qtd_vendas')\n",
    "\n",
    "# 90 dias de extrapolação\n",
    "df_9 = dataset_predict.withColumn('max_data', max(date_column).over(w))\\\n",
    "        .drop(date_column).distinct().withColumn('data_sequencia', lit(9)).drop('max_data')\n",
    "assembler = VectorAssembler(inputCols = x_cols, outputCol = 'features')\n",
    "dadosFeatures_9 = assembler.transform(df_9).withColumnRenamed('qtd_venda_mensal', 'label')\n",
    "predict_90 = lrModel.transform(dadosFeatures_9)\\\n",
    "                    .withColumn('perc_aumento_demanda', ((col('prediction') - col('label'))/col('label'))*100)\\\n",
    "                        .select('produto_nome', 'prediction', \n",
    "                                'perc_aumento_demanda').withColumnRenamed('prediction', 'predicao_qtd_vendas')"
   ]
  },
  {
   "cell_type": "markdown",
   "id": "558a1591",
   "metadata": {},
   "source": [
    "## As precições não ficaram com métricas aceitáveis, possivelmente será necessário buscar novas variáveis para descrever o comportamento da demanda!"
   ]
  },
  {
   "cell_type": "code",
   "execution_count": 10,
   "id": "5b7d3fa2",
   "metadata": {},
   "outputs": [
    {
     "name": "stdout",
     "output_type": "stream",
     "text": [
      "+-------------+-------------------+--------------------+\n",
      "| produto_nome|predicao_qtd_vendas|perc_aumento_demanda|\n",
      "+-------------+-------------------+--------------------+\n",
      "| Produto 9951| 2.5194368485922745|   319.9061247464755|\n",
      "| Produto 9951| 2.5194368485922745|   319.9061247464755|\n",
      "|  Produto 349| 2.5385303637844636|  323.08837715205567|\n",
      "|  Produto 349| 2.5385303637844636|  323.08837715205567|\n",
      "|  Produto 349| 2.5427433320616757|   323.7905385036896|\n",
      "|  Produto 349| 2.5427433320616757|   323.7905385036896|\n",
      "| Produto 7346|  2.242988095025816|  273.83133431624674|\n",
      "|  Produto 820|  2.784123039752117|   364.0204881868352|\n",
      "|  Produto 820|  2.784123039752117|   364.0204881868352|\n",
      "|  Produto 820|   2.78846147914944|  364.74356139099007|\n",
      "|  Produto 820|   2.78846147914944|  364.74356139099007|\n",
      "| Produto 3508| 2.7971015889585087|   366.1835796352803|\n",
      "| Produto 3508|  2.796623510987456|  366.10389997660445|\n",
      "| Produto 3508|  2.798281949705448|   366.3803064186196|\n",
      "|Produto 11266| 2.7671749842768127|   361.1958123865271|\n",
      "| Produto 3508| 2.7996628466099236|  366.61045589355365|\n",
      "| Produto 9074| 2.7947545012775152|   365.7923983706589|\n",
      "| Produto 9074| 2.7947545012775152|   365.7923983706589|\n",
      "|  Produto 820|   2.80811716399992|   368.0195087358956|\n",
      "|  Produto 820|   2.80811716399992|   368.0195087358956|\n",
      "+-------------+-------------------+--------------------+\n",
      "only showing top 20 rows\n",
      "\n"
     ]
    }
   ],
   "source": [
    "predict_30.show()"
   ]
  },
  {
   "cell_type": "code",
   "execution_count": 11,
   "id": "485d6d1c",
   "metadata": {},
   "outputs": [
    {
     "name": "stdout",
     "output_type": "stream",
     "text": [
      "+-------------+-------------------+--------------------+\n",
      "| produto_nome|predicao_qtd_vendas|perc_aumento_demanda|\n",
      "+-------------+-------------------+--------------------+\n",
      "| Produto 9951| 2.5856196473365762|  330.93659076554775|\n",
      "| Produto 9951| 2.5856196473365762|  330.93659076554775|\n",
      "|  Produto 349| 2.6047131625287654|  334.11884317112793|\n",
      "|  Produto 349| 2.6047131625287654|  334.11884317112793|\n",
      "|  Produto 349|  2.608926130805978|    334.821004522762|\n",
      "|  Produto 349|  2.608926130805978|    334.821004522762|\n",
      "| Produto 7346| 2.3091708937701183|   284.8618003353191|\n",
      "|  Produto 820|  2.850305838496419|   375.0509542059076|\n",
      "|  Produto 820|  2.850305838496419|   375.0509542059076|\n",
      "|  Produto 820|  2.854644277893742|  375.77402741006244|\n",
      "|  Produto 820|  2.854644277893742|  375.77402741006244|\n",
      "| Produto 3508|  2.863284387702811|   377.2140456543527|\n",
      "| Produto 3508| 2.8628063097317584|  377.13436599567683|\n",
      "| Produto 3508|   2.86446474844975|    377.410772437692|\n",
      "|Produto 11266|  2.833357783021115|  372.22627840559943|\n",
      "| Produto 3508|  2.865845645354226|  377.64092191262597|\n",
      "| Produto 9074|  2.860937300021817|   376.8228643897312|\n",
      "| Produto 9074|  2.860937300021817|   376.8228643897312|\n",
      "|  Produto 820| 2.8742999627442223|    379.049974754968|\n",
      "|  Produto 820| 2.8742999627442223|    379.049974754968|\n",
      "+-------------+-------------------+--------------------+\n",
      "only showing top 20 rows\n",
      "\n"
     ]
    }
   ],
   "source": [
    "predict_60.show()"
   ]
  },
  {
   "cell_type": "code",
   "execution_count": 12,
   "id": "41241ea0",
   "metadata": {},
   "outputs": [
    {
     "name": "stdout",
     "output_type": "stream",
     "text": [
      "+-------------+-------------------+--------------------+\n",
      "| produto_nome|predicao_qtd_vendas|perc_aumento_demanda|\n",
      "+-------------+-------------------+--------------------+\n",
      "| Produto 9951| 2.6518024460808785|   341.9670567846201|\n",
      "| Produto 9951| 2.6518024460808785|   341.9670567846201|\n",
      "|  Produto 349| 2.6708959612730676|   345.1493091902003|\n",
      "|  Produto 349| 2.6708959612730676|   345.1493091902003|\n",
      "|  Produto 349|   2.67510892955028|   345.8514705418343|\n",
      "|  Produto 349|   2.67510892955028|   345.8514705418343|\n",
      "| Produto 7346| 2.3753536925144205|   295.8922663543915|\n",
      "|  Produto 820|  2.916488637240721|  386.08142022497987|\n",
      "|  Produto 820|  2.916488637240721|  386.08142022497987|\n",
      "|  Produto 820| 2.9208270766380444|   386.8044934291348|\n",
      "|  Produto 820| 2.9208270766380444|   386.8044934291348|\n",
      "| Produto 3508|  2.929467186447113|   388.2445116734251|\n",
      "| Produto 3508| 2.9289891084760606|   388.1648320147492|\n",
      "| Produto 3508|  2.930647547194052|  388.44123845676427|\n",
      "|Produto 11266|  2.899540581765417|   383.2567444246718|\n",
      "| Produto 3508|  2.932028444098528|  388.67138793169835|\n",
      "| Produto 9074| 2.9271200987661192|   387.8533304088036|\n",
      "| Produto 9074| 2.9271200987661192|   387.8533304088036|\n",
      "|  Produto 820| 2.9404827614885245|  390.08044077404037|\n",
      "|  Produto 820| 2.9404827614885245|  390.08044077404037|\n",
      "+-------------+-------------------+--------------------+\n",
      "only showing top 20 rows\n",
      "\n"
     ]
    }
   ],
   "source": [
    "predict_90.show()"
   ]
  },
  {
   "cell_type": "markdown",
   "id": "0c10159e",
   "metadata": {},
   "source": [
    "# Salvando predições"
   ]
  },
  {
   "cell_type": "code",
   "execution_count": 17,
   "id": "690d02d1",
   "metadata": {},
   "outputs": [],
   "source": [
    "predict_30.toPandas().to_csv('teste_petz/saves/predicts/predicao_demanda_30_dias.csv') # .write.format('csv').mode('overwrite').saveAsTable()\n",
    "predict_60.toPandas().to_csv('teste_petz/saves/predicts/predicao_demanda_60_dias.csv')\n",
    "predict_90.toPandas().to_csv('teste_petz/saves/predicts/predicao_demanda_90_dias.csv')"
   ]
  },
  {
   "cell_type": "markdown",
   "id": "fb207a51",
   "metadata": {},
   "source": [
    "# Rascunho"
   ]
  },
  {
   "cell_type": "code",
   "execution_count": null,
   "id": "313b235b",
   "metadata": {},
   "outputs": [],
   "source": []
  }
 ],
 "metadata": {
  "kernelspec": {
   "display_name": "Python 3 (ipykernel)",
   "language": "python",
   "name": "python3"
  },
  "language_info": {
   "codemirror_mode": {
    "name": "ipython",
    "version": 3
   },
   "file_extension": ".py",
   "mimetype": "text/x-python",
   "name": "python",
   "nbconvert_exporter": "python",
   "pygments_lexer": "ipython3",
   "version": "3.9.12"
  }
 },
 "nbformat": 4,
 "nbformat_minor": 5
}
